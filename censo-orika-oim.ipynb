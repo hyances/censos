{
 "cells": [
  {
   "cell_type": "markdown",
   "metadata": {},
   "source": [
    "##### Librerías"
   ]
  },
  {
   "cell_type": "code",
   "execution_count": 38,
   "metadata": {},
   "outputs": [],
   "source": [
    "import pandas as pd\n",
    "import numpy as np\n",
    "import geopandas as gp\n",
    "from shapely.geometry import Point\n",
    "import requests\n",
    "import json\n",
    "import matplotlib as mpl\n",
    "import matplotlib.pyplot as plt\n",
    "import seaborn as sns\n",
    "import datetime as dt"
   ]
  },
  {
   "cell_type": "markdown",
   "metadata": {},
   "source": [
    "## Datos Censo OIM - 2019\n",
    "Lectura de fuente de datos desde el servidor ODKCentral.  Se lee el json de cada una de las entidades y se guarda en un CSV eliminando las columnas que no se requieren, definiendo índices y tipos de datos como fechas, flotantes o enteros, renombrando las columnas para que sean más sencillas de entender y manejar."
   ]
  },
  {
   "cell_type": "code",
   "execution_count": 3,
   "metadata": {},
   "outputs": [],
   "source": [
    "## CREAR DATAFRAMES\n",
    "\n",
    "# Dataframe de VIVIENDAS\n",
    "url_test = 'https://odkcentral.naritas.co/v1/projects/2/forms/build_Censo-Orika-OIM_v3.svc/Submissions'\n",
    "r = requests.get(url_test, auth=('hyances@gmail.com', 'h9mb3rt0'))\n",
    "r_json = r.json().get('value')\n",
    "df_viviendas = pd.read_json(json.dumps(r_json), orient='records')\n",
    "df_viviendas.to_json(path_or_buf='viviendas.json', orient='records', date_format='iso')\n",
    "\n",
    "# crear campos de latitud y longitud\n",
    "longitud = []\n",
    "latitud = []\n",
    "for point in df_viviendas['ubicacion-vivienda']:\n",
    "    longitud.append(point.get('coordinates')[0])\n",
    "    latitud.append(point.get('coordinates')[1])\n",
    "df_viviendas['longitud'] = longitud\n",
    "df_viviendas['latitud'] = latitud\n",
    "\n",
    "# Corregir posición y referencia Isleta\n",
    "df_viviendas.loc[39, 'longitud'] = -75.75213\n",
    "df_viviendas.loc[39, 'latitud'] = 10.17567\n",
    "df_viviendas.loc[38, 'ref-vivienda'] = 'Andri'\n",
    "\n",
    "# Crear campo de encuestadoras\n",
    "encuestadora = []\n",
    "for envio in df_viviendas['__system']:\n",
    "    encuestadora.append(envio.get('submitterName'))\n",
    "df_viviendas['encuestadora'] = encuestadora\n",
    "\n",
    "# Dataframe de HOGARES\n",
    "url_test = 'https://odkcentral.naritas.co/v1/projects/2/forms/build_Censo-Orika-OIM_v3.svc/Submissions.HOGARES'\n",
    "r = requests.get(url_test, auth=('hyances@gmail.com', 'h9mb3rt0'))\n",
    "r_json = r.json().get('value')\n",
    "df_hogares = pd.read_json(json.dumps(r_json), orient='records')\n",
    "df_hogares.to_json(path_or_buf='hogares.json', orient='records', date_format='iso')\n",
    "\n",
    "# Dataframe de PERSONAS\n",
    "url_test = 'https://odkcentral.naritas.co/v1/projects/2/forms/build_Censo-Orika-OIM_v3.svc/Submissions.HOGARES.PERSONAS'\n",
    "r = requests.get(url_test, auth=('hyances@gmail.com', 'h9mb3rt0'))\n",
    "r_json = r.json().get('value')\n",
    "df_personas = pd.read_json(json.dumps(r_json), orient='records')\n",
    "df_personas.to_json(path_or_buf='personas.json', orient='records', date_format='iso')\n",
    "\n",
    "# Eliminar duplicados\n",
    "df_viviendas.drop(df_viviendas[df_viviendas['__id']=='uuid:61e0a91a-718d-4a74-912f-1d51cbffcf7a'].index,\n",
    "                  axis=0, inplace=True)\n",
    "\n",
    "df_hogares.drop(df_hogares[df_hogares['__Submissions-id']=='uuid:61e0a91a-718d-4a74-912f-1d51cbffcf7a'].index,\n",
    "                  axis=0, inplace=True)\n",
    "\n",
    "df_personas.drop(df_personas[df_personas['__Submissions-HOGARES-id']=='bf384ec25b75112a3524947299e6837acbcd6814'].index,\n",
    "                  axis=0, inplace=True)\n",
    "'''\n",
    "# df_viviendas.duplicated(['longitud','latitud'])\n",
    "# df_viviendas.drop_duplicates(subset='', keep='first', inplace=True)\n",
    "'''\n",
    "\n",
    "# Calcular edad de las viviendas\n",
    "df_viviendas['edad_construccion'] = (pd.to_datetime(pd.Series([pd.to_datetime('today').date()] * (len(df_viviendas) + 1) )) - pd.to_datetime(df_viviendas['ano-construccion'])) / np.timedelta64(1, 'Y')\n",
    "df_viviendas['edad_construccion'] = df_viviendas['edad_construccion'].fillna(0).astype(int)\n",
    "\n",
    "# Total de habitantes por viviendas\n",
    "df_viviendas['habitantes_vivienda'] = df_viviendas['__id'].map(df_hogares.groupby(['__Submissions-id'])['numero-personas'].sum())\n",
    "\n",
    "## Geocoder viviendas por sector\n",
    "# Crear dataframes de sectores\n",
    "sectores = gp.read_file('../../../../Documentos/PERSONAL/Fundación \"Data for Change\"/Concejo Comunitario Isla Grande/Censo Orika/Censo OIM/Censo Orika - Productos/Archivos geográficos/Sectores/sectores-orika.shp')\n",
    "# Crear dataframes de puntos\n",
    "df_viviendas['coordenada'] = gp.points_from_xy(df_viviendas.longitud, df_viviendas.latitud)\n",
    "sector = []\n",
    "for coordenada in df_viviendas['coordenada']:\n",
    "    filter = sectores.geometry.contains(coordenada)\n",
    "    sector.append(sectores.loc[filter]['name'].to_list())\n",
    "df_viviendas['sector'] = sector\n",
    "df_viviendas['sector'] = df_viviendas['sector'].str.get(0)\n",
    "df_viviendas['sector'].fillna('SIN-SECTOR')\n",
    "\n",
    "# Crear dataframes de sectores\n",
    "titulacion = gp.read_file('/home/humberto/Documentos/PERSONAL/Fundación \"Data for Change\"/Concejo Comunitario Isla Grande/Titulación Colectiva/Globos/Globos.shp')\n",
    "titulo = []\n",
    "for coordenada in df_viviendas['coordenada']:\n",
    "    filter = titulacion.geometry.contains(coordenada)\n",
    "    titulo.append(titulacion.loc[filter]['name'].to_list())\n",
    "df_viviendas['titulo'] = titulo\n",
    "df_viviendas['titulo'] = df_viviendas['titulo'].str.get(0)\n",
    "df_viviendas['titulo'].fillna('FUERA-TITULO')\n",
    "\n",
    "\n",
    "# Calcular edad de las personas\n",
    "df_personas['edad'] = (pd.to_datetime(pd.Series([pd.to_datetime('today').date()] * (len(df_personas) + 1) )) - pd.to_datetime(df_personas['nacimiento'])) / np.timedelta64(1, 'Y')\n",
    "df_personas['edad'] = df_personas['edad'].fillna(0).astype(int)\n",
    "\n",
    "# Agregar columnas de ocupación\n",
    "df_personas[['ocupacion1', 'ocupacion2', 'ocupacion3', 'ocupacion4', 'ocupacion5']] = df_personas['ocupacion'].str.split(' ', expand=True)\n",
    "\n",
    "\n",
    "# Eliminar campos innecesarios\n",
    "df_viviendas = df_viviendas.drop(['coordenada','HOGARES_count', '__system', 'deviceid', 'end', 'meta', 'start', 'ubicacion-vivienda'], axis=1)\n",
    "df_hogares = df_hogares.drop(['PERSONAS_count'], axis=1)\n",
    "\n",
    "#Organizar los campos en todos los datasets\n",
    "\n",
    "\n",
    "# Dataframe de TABLA unificada\n",
    "tabla = pd.merge(df_viviendas, df_hogares, how='inner', left_on='__id', right_on='__Submissions-id', validate='1:m')\n",
    "tabla = pd.merge(tabla, df_personas, how='inner', left_on='__id_y', right_on='__Submissions-HOGARES-id', validate='1:m')\n",
    "\n",
    "# Crear archivos CSV\n",
    "df_viviendas.to_csv('../../../../Documentos/PERSONAL/Fundación \"Data for Change\"/Concejo Comunitario Isla Grande/Censo Orika/Censo OIM/Resultados/VIVIENDAS.csv',\n",
    "                    header=['__id', 'anoconstruccion', 'firma', 'numerohogares',\n",
    "       'numerovivienda', 'refvivienda', 'tipotenencia',\n",
    "       'tipotenencia_otro', 'today', 'longitud', 'latitud', 'encuestadora',\n",
    "       'edadconstruccion', 'habitantes', 'sector', 'titulo'], index=False)\n",
    "df_hogares.to_csv('../../../../Documentos/PERSONAL/Fundación \"Data for Change\"/Concejo Comunitario Isla Grande/Censo Orika/Censo OIM/Resultados/HOGARES.csv', index=False)\n",
    "df_personas.to_csv('../../../../Documentos/PERSONAL/Fundación \"Data for Change\"/Concejo Comunitario Isla Grande/Censo Orika/Censo OIM/Resultados/PERSONAS.csv', index=False)\n",
    "tabla.to_csv('../../../../Documentos/PERSONAL/Fundación \"Data for Change\"/Concejo Comunitario Isla Grande/Censo Orika/Censo OIM/Resultados/TABLA.csv', index=False)"
   ]
  },
  {
   "cell_type": "markdown",
   "metadata": {},
   "source": [
    "### Censo Covid-19\n",
    "La comunidad requiere el archivo del censo con la reorganización de las columnas para que sea más sencillo la gestión de entrega de ayudas humanitarias.  _8 de abril de 2020._"
   ]
  },
  {
   "cell_type": "code",
   "execution_count": 13,
   "metadata": {},
   "outputs": [],
   "source": [
    "'''\n",
    "# Orden deseado de las columnas:\n",
    "\n",
    "[sector, numero vivienda, referencia vivienda/ tipo tenencia/ # hogares/  # personas/ \n",
    "nombre/ apellidos/ año residencia hogar/ procedencia/ autoidentificacion/ año nacimiento/ \n",
    "edad/ parentesco/ ocupación/ nivel educativo/ saberes ancestrales/ \n",
    "ubicacion y encuestadora]\n",
    "\n",
    "'''\n",
    "\n",
    "df_covid = pd.read_csv('../../../../Documentos/PERSONAL/Fundación \"Data for Change\"\\\n",
    "                      /Concejo Comunitario Isla Grande/Censo Orika/Censo OIM/Resultados/TABLA.csv')\n",
    "df_covid = df_covid[['sector', 'numero-vivienda', 'ref-vivienda', 'tipo-tenencia', 'numero-hogares', 'numero-personas',\n",
    "        'nombres', 'apellidos', 'ano-residencia-hogar', 'procedencia-hogar', 'autoidentificacion',\n",
    "        'nacimiento', 'edad', 'parentesco', 'ocupacion', 'nivel-educativo', 'saberes-ancentrales',\n",
    "        'longitud', 'latitud', 'encuestadora']]\n",
    "df_covid['edad'] = (pd.to_datetime(pd.Series([pd.to_datetime('today').date()] * (len(df_covid) + 1) )) - pd.to_datetime(df_covid['nacimiento'])) / np.timedelta64(1, 'Y')\n",
    "df_covid['edad'] = df_covid['edad'].fillna(0).astype(int)\n",
    "df_covid.to_csv('../../../../Documentos/PERSONAL/Fundación \"Data for Change\"/Concejo Comunitario Isla Grande/Censo Orika/Censo OIM/Resultados/COVID19-2020-04-08.csv', index=False)\n"
   ]
  },
  {
   "cell_type": "code",
   "execution_count": 77,
   "metadata": {},
   "outputs": [],
   "source": [
    "df_personas = pd.read_csv('../../../../Documentos/PERSONAL/Fundación \"Data for Change\"/Concejo Comunitario Isla Grande/Censo Orika/Censo OIM/Resultados/COVID19-2020-04-08.csv')"
   ]
  },
  {
   "cell_type": "markdown",
   "metadata": {},
   "source": [
    "### Actualización Censo 2021 - Coosalud (EPS)\n",
    "La comunidad requiere procesar los datos de la actualización del censo hecha por la EPS Coosalud.  _12 de agosto de 2021._"
   ]
  },
  {
   "cell_type": "code",
   "execution_count": 65,
   "metadata": {},
   "outputs": [
    {
     "name": "stdout",
     "output_type": "stream",
     "text": [
      "Tokenization took: 1.46 ms\n",
      "Type conversion took: 3.21 ms\n",
      "Parser memory cleanup took: 0.00 ms\n"
     ]
    }
   ],
   "source": [
    "#parser = lambda date: dt.datetime.strptime(date, '%m/%d/%Y')\n",
    "# , parse_dates=[2, 16], date_parser=parser\n",
    "# /Formato Censo Actualizado Islas del  Rosario.csv',\\\n",
    "\n",
    "df_personas = pd.read_csv('../../../../Documentos/PERSONAL/Fundación \"Data for Change\"\\\n",
    "/Concejo Comunitario Isla Grande/Censo Orika/Censo Cosalud 2021\\\n",
    "/censoactualizado.csv',\\\n",
    "                           dtype={'edad': np.float64}, verbose=True, decimal=',')"
   ]
  },
  {
   "cell_type": "code",
   "execution_count": 78,
   "metadata": {},
   "outputs": [
    {
     "data": {
      "text/html": [
       "<div>\n",
       "<style scoped>\n",
       "    .dataframe tbody tr th:only-of-type {\n",
       "        vertical-align: middle;\n",
       "    }\n",
       "\n",
       "    .dataframe tbody tr th {\n",
       "        vertical-align: top;\n",
       "    }\n",
       "\n",
       "    .dataframe thead th {\n",
       "        text-align: right;\n",
       "    }\n",
       "</style>\n",
       "<table border=\"1\" class=\"dataframe\">\n",
       "  <thead>\n",
       "    <tr style=\"text-align: right;\">\n",
       "      <th></th>\n",
       "      <th>sector</th>\n",
       "      <th>numero-vivienda</th>\n",
       "      <th>ref-vivienda</th>\n",
       "      <th>tipo-tenencia</th>\n",
       "      <th>numero-hogares</th>\n",
       "      <th>numero-personas</th>\n",
       "      <th>nombres</th>\n",
       "      <th>apellidos</th>\n",
       "      <th>ano-residencia-hogar</th>\n",
       "      <th>procedencia-hogar</th>\n",
       "      <th>autoidentificacion</th>\n",
       "      <th>nacimiento</th>\n",
       "      <th>edad</th>\n",
       "      <th>parentesco</th>\n",
       "      <th>ocupacion</th>\n",
       "      <th>nivel-educativo</th>\n",
       "      <th>saberes-ancentrales</th>\n",
       "      <th>longitud</th>\n",
       "      <th>latitud</th>\n",
       "      <th>encuestadora</th>\n",
       "    </tr>\n",
       "  </thead>\n",
       "  <tbody>\n",
       "    <tr>\n",
       "      <th>0</th>\n",
       "      <td>NaN</td>\n",
       "      <td>503</td>\n",
       "      <td>punta motena</td>\n",
       "      <td>trabajo</td>\n",
       "      <td>1</td>\n",
       "      <td>6</td>\n",
       "      <td>yimi Alfredo</td>\n",
       "      <td>torres julio</td>\n",
       "      <td>1998-01-01</td>\n",
       "      <td>isla-grande</td>\n",
       "      <td>afrocolombiano-a-</td>\n",
       "      <td>1981-01-12</td>\n",
       "      <td>39</td>\n",
       "      <td>jefe-a-delhogar</td>\n",
       "      <td>celador</td>\n",
       "      <td>secundaria-completa</td>\n",
       "      <td>pesca gallero musica baile Cocina-tradicional</td>\n",
       "      <td>-75.755447</td>\n",
       "      <td>10.176612</td>\n",
       "      <td>yuris_brons</td>\n",
       "    </tr>\n",
       "    <tr>\n",
       "      <th>1</th>\n",
       "      <td>NaN</td>\n",
       "      <td>503</td>\n",
       "      <td>punta motena</td>\n",
       "      <td>trabajo</td>\n",
       "      <td>1</td>\n",
       "      <td>6</td>\n",
       "      <td>yuris</td>\n",
       "      <td>Brons Medrano</td>\n",
       "      <td>1998-01-01</td>\n",
       "      <td>isla-grande</td>\n",
       "      <td>afrocolombiano-a-</td>\n",
       "      <td>1975-08-14</td>\n",
       "      <td>44</td>\n",
       "      <td>companero-a-</td>\n",
       "      <td>serviciosturisticos laboresdelhogar</td>\n",
       "      <td>secundaria-completa</td>\n",
       "      <td>baile musica Cocina-tradicional</td>\n",
       "      <td>-75.755447</td>\n",
       "      <td>10.176612</td>\n",
       "      <td>yuris_brons</td>\n",
       "    </tr>\n",
       "    <tr>\n",
       "      <th>2</th>\n",
       "      <td>NaN</td>\n",
       "      <td>503</td>\n",
       "      <td>punta motena</td>\n",
       "      <td>trabajo</td>\n",
       "      <td>1</td>\n",
       "      <td>6</td>\n",
       "      <td>Sebastián</td>\n",
       "      <td>Molina Brawm</td>\n",
       "      <td>1998-01-01</td>\n",
       "      <td>isla-grande</td>\n",
       "      <td>afrocolombiano-a-</td>\n",
       "      <td>1994-04-25</td>\n",
       "      <td>25</td>\n",
       "      <td>hijo-a-</td>\n",
       "      <td>serviciosturisticos</td>\n",
       "      <td>tecnico-incompleto</td>\n",
       "      <td>pesca baile musica</td>\n",
       "      <td>-75.755447</td>\n",
       "      <td>10.176612</td>\n",
       "      <td>yuris_brons</td>\n",
       "    </tr>\n",
       "    <tr>\n",
       "      <th>3</th>\n",
       "      <td>NaN</td>\n",
       "      <td>503</td>\n",
       "      <td>punta motena</td>\n",
       "      <td>trabajo</td>\n",
       "      <td>1</td>\n",
       "      <td>6</td>\n",
       "      <td>yimi</td>\n",
       "      <td>torres Brons</td>\n",
       "      <td>1998-01-01</td>\n",
       "      <td>isla-grande</td>\n",
       "      <td>afrocolombiano-a-</td>\n",
       "      <td>1999-08-26</td>\n",
       "      <td>20</td>\n",
       "      <td>hijo-a-</td>\n",
       "      <td>estudiante</td>\n",
       "      <td>secundaria-incompleta</td>\n",
       "      <td>pesca gallero baile musica Cocina-tradicional</td>\n",
       "      <td>-75.755447</td>\n",
       "      <td>10.176612</td>\n",
       "      <td>yuris_brons</td>\n",
       "    </tr>\n",
       "    <tr>\n",
       "      <th>4</th>\n",
       "      <td>NaN</td>\n",
       "      <td>503</td>\n",
       "      <td>punta motena</td>\n",
       "      <td>trabajo</td>\n",
       "      <td>1</td>\n",
       "      <td>6</td>\n",
       "      <td>Angela yimara</td>\n",
       "      <td>Torres Brons</td>\n",
       "      <td>1998-01-01</td>\n",
       "      <td>isla-grande</td>\n",
       "      <td>afrocolombiano-a-</td>\n",
       "      <td>2001-10-22</td>\n",
       "      <td>18</td>\n",
       "      <td>hijo-a-</td>\n",
       "      <td>estudiante</td>\n",
       "      <td>tecnico-incompleto</td>\n",
       "      <td>pesca baile musica Cocina-tradicional gallero</td>\n",
       "      <td>-75.755447</td>\n",
       "      <td>10.176612</td>\n",
       "      <td>yuris_brons</td>\n",
       "    </tr>\n",
       "  </tbody>\n",
       "</table>\n",
       "</div>"
      ],
      "text/plain": [
       "  sector  numero-vivienda  ref-vivienda tipo-tenencia  numero-hogares  \\\n",
       "0    NaN              503  punta motena       trabajo               1   \n",
       "1    NaN              503  punta motena       trabajo               1   \n",
       "2    NaN              503  punta motena       trabajo               1   \n",
       "3    NaN              503  punta motena       trabajo               1   \n",
       "4    NaN              503  punta motena       trabajo               1   \n",
       "\n",
       "   numero-personas        nombres      apellidos ano-residencia-hogar  \\\n",
       "0                6   yimi Alfredo   torres julio           1998-01-01   \n",
       "1                6          yuris  Brons Medrano           1998-01-01   \n",
       "2                6      Sebastián   Molina Brawm           1998-01-01   \n",
       "3                6           yimi   torres Brons           1998-01-01   \n",
       "4                6  Angela yimara   Torres Brons           1998-01-01   \n",
       "\n",
       "  procedencia-hogar autoidentificacion  nacimiento  edad       parentesco  \\\n",
       "0       isla-grande  afrocolombiano-a-  1981-01-12    39  jefe-a-delhogar   \n",
       "1       isla-grande  afrocolombiano-a-  1975-08-14    44     companero-a-   \n",
       "2       isla-grande  afrocolombiano-a-  1994-04-25    25          hijo-a-   \n",
       "3       isla-grande  afrocolombiano-a-  1999-08-26    20          hijo-a-   \n",
       "4       isla-grande  afrocolombiano-a-  2001-10-22    18          hijo-a-   \n",
       "\n",
       "                             ocupacion        nivel-educativo  \\\n",
       "0                              celador    secundaria-completa   \n",
       "1  serviciosturisticos laboresdelhogar    secundaria-completa   \n",
       "2                  serviciosturisticos     tecnico-incompleto   \n",
       "3                           estudiante  secundaria-incompleta   \n",
       "4                           estudiante     tecnico-incompleto   \n",
       "\n",
       "                             saberes-ancentrales   longitud    latitud  \\\n",
       "0  pesca gallero musica baile Cocina-tradicional -75.755447  10.176612   \n",
       "1                baile musica Cocina-tradicional -75.755447  10.176612   \n",
       "2                             pesca baile musica -75.755447  10.176612   \n",
       "3  pesca gallero baile musica Cocina-tradicional -75.755447  10.176612   \n",
       "4  pesca baile musica Cocina-tradicional gallero -75.755447  10.176612   \n",
       "\n",
       "  encuestadora  \n",
       "0  yuris_brons  \n",
       "1  yuris_brons  \n",
       "2  yuris_brons  \n",
       "3  yuris_brons  \n",
       "4  yuris_brons  "
      ]
     },
     "execution_count": 78,
     "metadata": {},
     "output_type": "execute_result"
    }
   ],
   "source": [
    "df_personas.head()"
   ]
  },
  {
   "cell_type": "code",
   "execution_count": 79,
   "metadata": {},
   "outputs": [
    {
     "data": {
      "text/plain": [
       "Index(['sector', 'numero-vivienda', 'ref-vivienda', 'tipo-tenencia',\n",
       "       'numero-hogares', 'numero-personas', 'nombres', 'apellidos',\n",
       "       'ano-residencia-hogar', 'procedencia-hogar', 'autoidentificacion',\n",
       "       'nacimiento', 'edad', 'parentesco', 'ocupacion', 'nivel-educativo',\n",
       "       'saberes-ancentrales', 'longitud', 'latitud', 'encuestadora'],\n",
       "      dtype='object')"
      ]
     },
     "execution_count": 79,
     "metadata": {},
     "output_type": "execute_result"
    }
   ],
   "source": [
    "df_personas.columns"
   ]
  },
  {
   "cell_type": "code",
   "execution_count": 80,
   "metadata": {},
   "outputs": [
    {
     "data": {
      "text/plain": [
       "sector                   object\n",
       "numero-vivienda           int64\n",
       "ref-vivienda             object\n",
       "tipo-tenencia            object\n",
       "numero-hogares            int64\n",
       "numero-personas           int64\n",
       "nombres                  object\n",
       "apellidos                object\n",
       "ano-residencia-hogar     object\n",
       "procedencia-hogar        object\n",
       "autoidentificacion       object\n",
       "nacimiento               object\n",
       "edad                      int64\n",
       "parentesco               object\n",
       "ocupacion                object\n",
       "nivel-educativo          object\n",
       "saberes-ancentrales      object\n",
       "longitud                float64\n",
       "latitud                 float64\n",
       "encuestadora             object\n",
       "dtype: object"
      ]
     },
     "execution_count": 80,
     "metadata": {},
     "output_type": "execute_result"
    }
   ],
   "source": [
    "df_personas.dtypes"
   ]
  },
  {
   "cell_type": "code",
   "execution_count": 81,
   "metadata": {},
   "outputs": [
    {
     "data": {
      "text/plain": [
       "array([nan, 'Yazmin', 'El Mocho', 'Isleta', 'El Silencio', 'Guinda Mono',\n",
       "       'Petares', 'Sector La Punta'], dtype=object)"
      ]
     },
     "execution_count": 81,
     "metadata": {},
     "output_type": "execute_result"
    }
   ],
   "source": [
    "df_personas.sector.unique()"
   ]
  },
  {
   "cell_type": "code",
   "execution_count": 62,
   "metadata": {},
   "outputs": [],
   "source": [
    "#df_personas['edad_calculada'] = (pd.to_datetime(pd.Series([pd.to_datetime('today').date()] * (len(df_personas) + 1) )) - pd.to_datetime(df_personas['edad'])) / np.timedelta64(1, 'Y')\n",
    "#df_personas['edad_calculada'] = df_personas['edad_calculada'].fillna(0).astype(int)"
   ]
  },
  {
   "cell_type": "code",
   "execution_count": 70,
   "metadata": {},
   "outputs": [
    {
     "data": {
      "text/html": [
       "<div>\n",
       "<style scoped>\n",
       "    .dataframe tbody tr th:only-of-type {\n",
       "        vertical-align: middle;\n",
       "    }\n",
       "\n",
       "    .dataframe tbody tr th {\n",
       "        vertical-align: top;\n",
       "    }\n",
       "\n",
       "    .dataframe thead th {\n",
       "        text-align: right;\n",
       "    }\n",
       "</style>\n",
       "<table border=\"1\" class=\"dataframe\">\n",
       "  <thead>\n",
       "    <tr style=\"text-align: right;\">\n",
       "      <th></th>\n",
       "      <th>total</th>\n",
       "      <th>sexo</th>\n",
       "      <th>grupo</th>\n",
       "    </tr>\n",
       "  </thead>\n",
       "  <tbody>\n",
       "    <tr>\n",
       "      <th>0</th>\n",
       "      <td>0</td>\n",
       "      <td>Masculino</td>\n",
       "      <td>Niños (0-14)</td>\n",
       "    </tr>\n",
       "    <tr>\n",
       "      <th>1</th>\n",
       "      <td>0</td>\n",
       "      <td>Masculino</td>\n",
       "      <td>Jóvenes (15-26)</td>\n",
       "    </tr>\n",
       "    <tr>\n",
       "      <th>2</th>\n",
       "      <td>0</td>\n",
       "      <td>Masculino</td>\n",
       "      <td>Adultos (27-59)</td>\n",
       "    </tr>\n",
       "    <tr>\n",
       "      <th>3</th>\n",
       "      <td>0</td>\n",
       "      <td>Masculino</td>\n",
       "      <td>Mayores (+60)</td>\n",
       "    </tr>\n",
       "    <tr>\n",
       "      <th>4</th>\n",
       "      <td>0</td>\n",
       "      <td>Femenino</td>\n",
       "      <td>Niños (0-14)</td>\n",
       "    </tr>\n",
       "    <tr>\n",
       "      <th>5</th>\n",
       "      <td>0</td>\n",
       "      <td>Femenino</td>\n",
       "      <td>Jóvenes (15-26)</td>\n",
       "    </tr>\n",
       "    <tr>\n",
       "      <th>6</th>\n",
       "      <td>0</td>\n",
       "      <td>Femenino</td>\n",
       "      <td>Adultos (27-59)</td>\n",
       "    </tr>\n",
       "    <tr>\n",
       "      <th>7</th>\n",
       "      <td>0</td>\n",
       "      <td>Femenino</td>\n",
       "      <td>Mayores (+60)</td>\n",
       "    </tr>\n",
       "  </tbody>\n",
       "</table>\n",
       "</div>"
      ],
      "text/plain": [
       "   total       sexo            grupo\n",
       "0      0  Masculino     Niños (0-14)\n",
       "1      0  Masculino  Jóvenes (15-26)\n",
       "2      0  Masculino  Adultos (27-59)\n",
       "3      0  Masculino    Mayores (+60)\n",
       "4      0   Femenino     Niños (0-14)\n",
       "5      0   Femenino  Jóvenes (15-26)\n",
       "6      0   Femenino  Adultos (27-59)\n",
       "7      0   Femenino    Mayores (+60)"
      ]
     },
     "execution_count": 70,
     "metadata": {},
     "output_type": "execute_result"
    }
   ],
   "source": [
    "# Grupos Etarios\n",
    "# Se sigue la definición descrita en:\n",
    "# https://www.culturarecreacionydeporte.gov.co/es/areas-de-trabajo/practicas-culturales/grupos-etarios\n",
    "\n",
    "df_personas['grupos_etarios'] = pd.cut(df_personas.edad, bins=[0, 14, 26, 59, 100], labels=['Niños (0-14)', 'Jóvenes (15-26)', 'Adultos (27-59)', 'Mayores (+60)'])\n",
    "\n",
    "grupo_m = df_personas[df_personas['sexo']=='Masculino'].groupby(['grupos_etarios'])['grupos_etarios'].count().to_frame()\n",
    "grupo_m['sexo'] = ['Masculino'] * len(grupo_m)\n",
    "grupo_f = df_personas[df_personas['sexo']=='Femenino'].groupby(['grupos_etarios'])['grupos_etarios'].count().to_frame()\n",
    "grupo_f['sexo'] = ['Femenino'] * len(grupo_f)\n",
    "piramide = pd.concat([grupo_m, grupo_f])\n",
    "piramide.loc[piramide.sexo != 'Femenino', 'grupos_etarios'] *= -1\n",
    "piramide['grupos'] = piramide.index\n",
    "piramide.columns = ['total', 'sexo', 'grupo']\n",
    "piramide.reset_index(drop=True, inplace=True)\n",
    "piramide\n"
   ]
  },
  {
   "cell_type": "code",
   "execution_count": 72,
   "metadata": {},
   "outputs": [
    {
     "ename": "KeyError",
     "evalue": "'autoidentificacion'",
     "output_type": "error",
     "traceback": [
      "\u001b[0;31m---------------------------------------------------------------------------\u001b[0m",
      "\u001b[0;31mKeyError\u001b[0m                                  Traceback (most recent call last)",
      "\u001b[0;32m<ipython-input-72-a33567642d9c>\u001b[0m in \u001b[0;36m<module>\u001b[0;34m\u001b[0m\n\u001b[1;32m      1\u001b[0m \u001b[0mdf_personas\u001b[0m\u001b[0;34m[\u001b[0m\u001b[0;34m'grupos_etarios'\u001b[0m\u001b[0;34m]\u001b[0m \u001b[0;34m=\u001b[0m \u001b[0mpd\u001b[0m\u001b[0;34m.\u001b[0m\u001b[0mcut\u001b[0m\u001b[0;34m(\u001b[0m\u001b[0mdf_personas\u001b[0m\u001b[0;34m.\u001b[0m\u001b[0medad\u001b[0m\u001b[0;34m,\u001b[0m \u001b[0mbins\u001b[0m\u001b[0;34m=\u001b[0m\u001b[0;34m[\u001b[0m\u001b[0;36m0\u001b[0m\u001b[0;34m,\u001b[0m \u001b[0;36m14\u001b[0m\u001b[0;34m,\u001b[0m \u001b[0;36m26\u001b[0m\u001b[0;34m,\u001b[0m \u001b[0;36m59\u001b[0m\u001b[0;34m,\u001b[0m \u001b[0;36m100\u001b[0m\u001b[0;34m]\u001b[0m\u001b[0;34m,\u001b[0m \u001b[0mlabels\u001b[0m\u001b[0;34m=\u001b[0m\u001b[0;34m[\u001b[0m\u001b[0;34m'Niños'\u001b[0m\u001b[0;34m,\u001b[0m \u001b[0;34m'Jóvenes'\u001b[0m\u001b[0;34m,\u001b[0m \u001b[0;34m'Adultos'\u001b[0m\u001b[0;34m,\u001b[0m \u001b[0;34m'Mayores'\u001b[0m\u001b[0;34m]\u001b[0m\u001b[0;34m)\u001b[0m\u001b[0;34m\u001b[0m\u001b[0;34m\u001b[0m\u001b[0m\n\u001b[1;32m      2\u001b[0m \u001b[0mdf_personas\u001b[0m\u001b[0;34m[\u001b[0m\u001b[0;34m'grupos_etarios'\u001b[0m\u001b[0;34m]\u001b[0m\u001b[0;34m\u001b[0m\u001b[0;34m\u001b[0m\u001b[0m\n\u001b[0;32m----> 3\u001b[0;31m \u001b[0mdf_personas\u001b[0m\u001b[0;34m.\u001b[0m\u001b[0mgroupby\u001b[0m\u001b[0;34m(\u001b[0m\u001b[0;34m[\u001b[0m\u001b[0;34m'grupos_etarios'\u001b[0m\u001b[0;34m,\u001b[0m \u001b[0;34m'autoidentificacion'\u001b[0m\u001b[0;34m]\u001b[0m\u001b[0;34m)\u001b[0m\u001b[0;34m[\u001b[0m\u001b[0;34m'grupos_etarios'\u001b[0m\u001b[0;34m]\u001b[0m\u001b[0;34m.\u001b[0m\u001b[0mcount\u001b[0m\u001b[0;34m(\u001b[0m\u001b[0;34m)\u001b[0m\u001b[0;34m\u001b[0m\u001b[0;34m\u001b[0m\u001b[0m\n\u001b[0m",
      "\u001b[0;32m~/.virtualenvs/jupyter/lib/python3.8/site-packages/pandas/core/frame.py\u001b[0m in \u001b[0;36mgroupby\u001b[0;34m(self, by, axis, level, as_index, sort, group_keys, squeeze, observed, dropna)\u001b[0m\n\u001b[1;32m   7624\u001b[0m         \u001b[0;31m# error: Argument \"squeeze\" to \"DataFrameGroupBy\" has incompatible type\u001b[0m\u001b[0;34m\u001b[0m\u001b[0;34m\u001b[0m\u001b[0;34m\u001b[0m\u001b[0m\n\u001b[1;32m   7625\u001b[0m         \u001b[0;31m# \"Union[bool, NoDefault]\"; expected \"bool\"\u001b[0m\u001b[0;34m\u001b[0m\u001b[0;34m\u001b[0m\u001b[0;34m\u001b[0m\u001b[0m\n\u001b[0;32m-> 7626\u001b[0;31m         return DataFrameGroupBy(\n\u001b[0m\u001b[1;32m   7627\u001b[0m             \u001b[0mobj\u001b[0m\u001b[0;34m=\u001b[0m\u001b[0mself\u001b[0m\u001b[0;34m,\u001b[0m\u001b[0;34m\u001b[0m\u001b[0;34m\u001b[0m\u001b[0m\n\u001b[1;32m   7628\u001b[0m             \u001b[0mkeys\u001b[0m\u001b[0;34m=\u001b[0m\u001b[0mby\u001b[0m\u001b[0;34m,\u001b[0m\u001b[0;34m\u001b[0m\u001b[0;34m\u001b[0m\u001b[0m\n",
      "\u001b[0;32m~/.virtualenvs/jupyter/lib/python3.8/site-packages/pandas/core/groupby/groupby.py\u001b[0m in \u001b[0;36m__init__\u001b[0;34m(self, obj, keys, axis, level, grouper, exclusions, selection, as_index, sort, group_keys, squeeze, observed, mutated, dropna)\u001b[0m\n\u001b[1;32m    886\u001b[0m             \u001b[0;32mfrom\u001b[0m \u001b[0mpandas\u001b[0m\u001b[0;34m.\u001b[0m\u001b[0mcore\u001b[0m\u001b[0;34m.\u001b[0m\u001b[0mgroupby\u001b[0m\u001b[0;34m.\u001b[0m\u001b[0mgrouper\u001b[0m \u001b[0;32mimport\u001b[0m \u001b[0mget_grouper\u001b[0m\u001b[0;34m\u001b[0m\u001b[0;34m\u001b[0m\u001b[0m\n\u001b[1;32m    887\u001b[0m \u001b[0;34m\u001b[0m\u001b[0m\n\u001b[0;32m--> 888\u001b[0;31m             grouper, exclusions, obj = get_grouper(\n\u001b[0m\u001b[1;32m    889\u001b[0m                 \u001b[0mobj\u001b[0m\u001b[0;34m,\u001b[0m\u001b[0;34m\u001b[0m\u001b[0;34m\u001b[0m\u001b[0m\n\u001b[1;32m    890\u001b[0m                 \u001b[0mkeys\u001b[0m\u001b[0;34m,\u001b[0m\u001b[0;34m\u001b[0m\u001b[0;34m\u001b[0m\u001b[0m\n",
      "\u001b[0;32m~/.virtualenvs/jupyter/lib/python3.8/site-packages/pandas/core/groupby/grouper.py\u001b[0m in \u001b[0;36mget_grouper\u001b[0;34m(obj, key, axis, level, sort, observed, mutated, validate, dropna)\u001b[0m\n\u001b[1;32m    858\u001b[0m                 \u001b[0min_axis\u001b[0m\u001b[0;34m,\u001b[0m \u001b[0mlevel\u001b[0m\u001b[0;34m,\u001b[0m \u001b[0mgpr\u001b[0m \u001b[0;34m=\u001b[0m \u001b[0;32mFalse\u001b[0m\u001b[0;34m,\u001b[0m \u001b[0mgpr\u001b[0m\u001b[0;34m,\u001b[0m \u001b[0;32mNone\u001b[0m\u001b[0;34m\u001b[0m\u001b[0;34m\u001b[0m\u001b[0m\n\u001b[1;32m    859\u001b[0m             \u001b[0;32melse\u001b[0m\u001b[0;34m:\u001b[0m\u001b[0;34m\u001b[0m\u001b[0;34m\u001b[0m\u001b[0m\n\u001b[0;32m--> 860\u001b[0;31m                 \u001b[0;32mraise\u001b[0m \u001b[0mKeyError\u001b[0m\u001b[0;34m(\u001b[0m\u001b[0mgpr\u001b[0m\u001b[0;34m)\u001b[0m\u001b[0;34m\u001b[0m\u001b[0;34m\u001b[0m\u001b[0m\n\u001b[0m\u001b[1;32m    861\u001b[0m         \u001b[0;32melif\u001b[0m \u001b[0misinstance\u001b[0m\u001b[0;34m(\u001b[0m\u001b[0mgpr\u001b[0m\u001b[0;34m,\u001b[0m \u001b[0mGrouper\u001b[0m\u001b[0;34m)\u001b[0m \u001b[0;32mand\u001b[0m \u001b[0mgpr\u001b[0m\u001b[0;34m.\u001b[0m\u001b[0mkey\u001b[0m \u001b[0;32mis\u001b[0m \u001b[0;32mnot\u001b[0m \u001b[0;32mNone\u001b[0m\u001b[0;34m:\u001b[0m\u001b[0;34m\u001b[0m\u001b[0;34m\u001b[0m\u001b[0m\n\u001b[1;32m    862\u001b[0m             \u001b[0;31m# Add key to exclusions\u001b[0m\u001b[0;34m\u001b[0m\u001b[0;34m\u001b[0m\u001b[0;34m\u001b[0m\u001b[0m\n",
      "\u001b[0;31mKeyError\u001b[0m: 'autoidentificacion'"
     ]
    }
   ],
   "source": [
    "df_personas['grupos_etarios'] = pd.cut(df_personas.edad, bins=[0, 14, 26, 59, 100], labels=['Niños', 'Jóvenes', 'Adultos', 'Mayores'])\n",
    "df_personas['grupos_etarios']\n",
    "df_personas.groupby(['grupos_etarios', 'autoidentificacion'])['grupos_etarios'].count() "
   ]
  },
  {
   "cell_type": "code",
   "execution_count": 72,
   "metadata": {},
   "outputs": [
    {
     "data": {
      "text/plain": [
       "grupos_etarios  nivel-educativo         \n",
       "Niños           ninguno                      66\n",
       "                primaria-completa             3\n",
       "                primaria-incompleta         120\n",
       "                secundaria-completa           2\n",
       "                secundaria-incompleta        63\n",
       "Jóvenes         ninguno                       2\n",
       "                postgrado                     3\n",
       "                primaria-completa            10\n",
       "                primaria-incompleta          10\n",
       "                secundaria-completa          54\n",
       "                secundaria-incompleta        99\n",
       "                tecnico-completo             13\n",
       "                tecnico-incompleto           13\n",
       "                tecnologo-completo            6\n",
       "                tecnologo-incompleto          4\n",
       "                universitario-completo        7\n",
       "                universitario-incompleto     11\n",
       "Adultos         ninguno                      13\n",
       "                postgrado                     4\n",
       "                primaria-completa            44\n",
       "                primaria-incompleta         104\n",
       "                secundaria-completa          93\n",
       "                secundaria-incompleta        96\n",
       "                tecnico-completo             16\n",
       "                tecnico-incompleto            8\n",
       "                tecnologo-completo            5\n",
       "                tecnologo-incompleto          1\n",
       "                universitario-completo        7\n",
       "                universitario-incompleto      4\n",
       "Mayores         ninguno                      20\n",
       "                primaria-completa             9\n",
       "                primaria-incompleta          26\n",
       "                secundaria-completa           2\n",
       "                secundaria-incompleta         4\n",
       "                tecnico-incompleto            1\n",
       "                universitario-completo        1\n",
       "Name: grupos_etarios, dtype: int64"
      ]
     },
     "execution_count": 72,
     "metadata": {},
     "output_type": "execute_result"
    }
   ],
   "source": [
    "df_personas['grupos_etarios'] = pd.cut(df_personas.edad, bins=[0, 14, 26, 59, 100], labels=['Niños', 'Jóvenes', 'Adultos', 'Mayores'])\n",
    "df_personas['grupos_etarios']\n",
    "df_personas.groupby(['grupos_etarios', 'nivel-educativo'])['grupos_etarios'].count() "
   ]
  },
  {
   "cell_type": "code",
   "execution_count": 73,
   "metadata": {},
   "outputs": [
    {
     "ename": "KeyError",
     "evalue": "'lugar-nacimiento'",
     "output_type": "error",
     "traceback": [
      "\u001b[0;31m---------------------------------------------------------------------------\u001b[0m",
      "\u001b[0;31mKeyError\u001b[0m                                  Traceback (most recent call last)",
      "\u001b[0;32m<ipython-input-73-05de24c34214>\u001b[0m in \u001b[0;36m<module>\u001b[0;34m\u001b[0m\n\u001b[1;32m      1\u001b[0m \u001b[0mdf_personas\u001b[0m\u001b[0;34m[\u001b[0m\u001b[0;34m'grupos_etarios'\u001b[0m\u001b[0;34m]\u001b[0m \u001b[0;34m=\u001b[0m \u001b[0mpd\u001b[0m\u001b[0;34m.\u001b[0m\u001b[0mcut\u001b[0m\u001b[0;34m(\u001b[0m\u001b[0mdf_personas\u001b[0m\u001b[0;34m.\u001b[0m\u001b[0medad\u001b[0m\u001b[0;34m,\u001b[0m \u001b[0mbins\u001b[0m\u001b[0;34m=\u001b[0m\u001b[0;34m[\u001b[0m\u001b[0;36m0\u001b[0m\u001b[0;34m,\u001b[0m \u001b[0;36m14\u001b[0m\u001b[0;34m,\u001b[0m \u001b[0;36m26\u001b[0m\u001b[0;34m,\u001b[0m \u001b[0;36m59\u001b[0m\u001b[0;34m,\u001b[0m \u001b[0;36m100\u001b[0m\u001b[0;34m]\u001b[0m\u001b[0;34m,\u001b[0m \u001b[0mlabels\u001b[0m\u001b[0;34m=\u001b[0m\u001b[0;34m[\u001b[0m\u001b[0;34m'Niños'\u001b[0m\u001b[0;34m,\u001b[0m \u001b[0;34m'Jóvenes'\u001b[0m\u001b[0;34m,\u001b[0m \u001b[0;34m'Adultos'\u001b[0m\u001b[0;34m,\u001b[0m \u001b[0;34m'Mayores'\u001b[0m\u001b[0;34m]\u001b[0m\u001b[0;34m)\u001b[0m\u001b[0;34m\u001b[0m\u001b[0;34m\u001b[0m\u001b[0m\n\u001b[1;32m      2\u001b[0m \u001b[0mdf_personas\u001b[0m\u001b[0;34m[\u001b[0m\u001b[0;34m'grupos_etarios'\u001b[0m\u001b[0;34m]\u001b[0m\u001b[0;34m\u001b[0m\u001b[0;34m\u001b[0m\u001b[0m\n\u001b[0;32m----> 3\u001b[0;31m \u001b[0mdf_personas\u001b[0m\u001b[0;34m.\u001b[0m\u001b[0mgroupby\u001b[0m\u001b[0;34m(\u001b[0m\u001b[0;34m[\u001b[0m\u001b[0;34m'grupos_etarios'\u001b[0m\u001b[0;34m,\u001b[0m \u001b[0;34m'lugar-nacimiento'\u001b[0m\u001b[0;34m]\u001b[0m\u001b[0;34m)\u001b[0m\u001b[0;34m[\u001b[0m\u001b[0;34m'grupos_etarios'\u001b[0m\u001b[0;34m]\u001b[0m\u001b[0;34m.\u001b[0m\u001b[0mcount\u001b[0m\u001b[0;34m(\u001b[0m\u001b[0;34m)\u001b[0m\u001b[0;34m\u001b[0m\u001b[0;34m\u001b[0m\u001b[0m\n\u001b[0m",
      "\u001b[0;32m~/.virtualenvs/jupyter/lib/python3.8/site-packages/pandas/core/frame.py\u001b[0m in \u001b[0;36mgroupby\u001b[0;34m(self, by, axis, level, as_index, sort, group_keys, squeeze, observed, dropna)\u001b[0m\n\u001b[1;32m   7624\u001b[0m         \u001b[0;31m# error: Argument \"squeeze\" to \"DataFrameGroupBy\" has incompatible type\u001b[0m\u001b[0;34m\u001b[0m\u001b[0;34m\u001b[0m\u001b[0;34m\u001b[0m\u001b[0m\n\u001b[1;32m   7625\u001b[0m         \u001b[0;31m# \"Union[bool, NoDefault]\"; expected \"bool\"\u001b[0m\u001b[0;34m\u001b[0m\u001b[0;34m\u001b[0m\u001b[0;34m\u001b[0m\u001b[0m\n\u001b[0;32m-> 7626\u001b[0;31m         return DataFrameGroupBy(\n\u001b[0m\u001b[1;32m   7627\u001b[0m             \u001b[0mobj\u001b[0m\u001b[0;34m=\u001b[0m\u001b[0mself\u001b[0m\u001b[0;34m,\u001b[0m\u001b[0;34m\u001b[0m\u001b[0;34m\u001b[0m\u001b[0m\n\u001b[1;32m   7628\u001b[0m             \u001b[0mkeys\u001b[0m\u001b[0;34m=\u001b[0m\u001b[0mby\u001b[0m\u001b[0;34m,\u001b[0m\u001b[0;34m\u001b[0m\u001b[0;34m\u001b[0m\u001b[0m\n",
      "\u001b[0;32m~/.virtualenvs/jupyter/lib/python3.8/site-packages/pandas/core/groupby/groupby.py\u001b[0m in \u001b[0;36m__init__\u001b[0;34m(self, obj, keys, axis, level, grouper, exclusions, selection, as_index, sort, group_keys, squeeze, observed, mutated, dropna)\u001b[0m\n\u001b[1;32m    886\u001b[0m             \u001b[0;32mfrom\u001b[0m \u001b[0mpandas\u001b[0m\u001b[0;34m.\u001b[0m\u001b[0mcore\u001b[0m\u001b[0;34m.\u001b[0m\u001b[0mgroupby\u001b[0m\u001b[0;34m.\u001b[0m\u001b[0mgrouper\u001b[0m \u001b[0;32mimport\u001b[0m \u001b[0mget_grouper\u001b[0m\u001b[0;34m\u001b[0m\u001b[0;34m\u001b[0m\u001b[0m\n\u001b[1;32m    887\u001b[0m \u001b[0;34m\u001b[0m\u001b[0m\n\u001b[0;32m--> 888\u001b[0;31m             grouper, exclusions, obj = get_grouper(\n\u001b[0m\u001b[1;32m    889\u001b[0m                 \u001b[0mobj\u001b[0m\u001b[0;34m,\u001b[0m\u001b[0;34m\u001b[0m\u001b[0;34m\u001b[0m\u001b[0m\n\u001b[1;32m    890\u001b[0m                 \u001b[0mkeys\u001b[0m\u001b[0;34m,\u001b[0m\u001b[0;34m\u001b[0m\u001b[0;34m\u001b[0m\u001b[0m\n",
      "\u001b[0;32m~/.virtualenvs/jupyter/lib/python3.8/site-packages/pandas/core/groupby/grouper.py\u001b[0m in \u001b[0;36mget_grouper\u001b[0;34m(obj, key, axis, level, sort, observed, mutated, validate, dropna)\u001b[0m\n\u001b[1;32m    858\u001b[0m                 \u001b[0min_axis\u001b[0m\u001b[0;34m,\u001b[0m \u001b[0mlevel\u001b[0m\u001b[0;34m,\u001b[0m \u001b[0mgpr\u001b[0m \u001b[0;34m=\u001b[0m \u001b[0;32mFalse\u001b[0m\u001b[0;34m,\u001b[0m \u001b[0mgpr\u001b[0m\u001b[0;34m,\u001b[0m \u001b[0;32mNone\u001b[0m\u001b[0;34m\u001b[0m\u001b[0;34m\u001b[0m\u001b[0m\n\u001b[1;32m    859\u001b[0m             \u001b[0;32melse\u001b[0m\u001b[0;34m:\u001b[0m\u001b[0;34m\u001b[0m\u001b[0;34m\u001b[0m\u001b[0m\n\u001b[0;32m--> 860\u001b[0;31m                 \u001b[0;32mraise\u001b[0m \u001b[0mKeyError\u001b[0m\u001b[0;34m(\u001b[0m\u001b[0mgpr\u001b[0m\u001b[0;34m)\u001b[0m\u001b[0;34m\u001b[0m\u001b[0;34m\u001b[0m\u001b[0m\n\u001b[0m\u001b[1;32m    861\u001b[0m         \u001b[0;32melif\u001b[0m \u001b[0misinstance\u001b[0m\u001b[0;34m(\u001b[0m\u001b[0mgpr\u001b[0m\u001b[0;34m,\u001b[0m \u001b[0mGrouper\u001b[0m\u001b[0;34m)\u001b[0m \u001b[0;32mand\u001b[0m \u001b[0mgpr\u001b[0m\u001b[0;34m.\u001b[0m\u001b[0mkey\u001b[0m \u001b[0;32mis\u001b[0m \u001b[0;32mnot\u001b[0m \u001b[0;32mNone\u001b[0m\u001b[0;34m:\u001b[0m\u001b[0;34m\u001b[0m\u001b[0;34m\u001b[0m\u001b[0m\n\u001b[1;32m    862\u001b[0m             \u001b[0;31m# Add key to exclusions\u001b[0m\u001b[0;34m\u001b[0m\u001b[0;34m\u001b[0m\u001b[0;34m\u001b[0m\u001b[0m\n",
      "\u001b[0;31mKeyError\u001b[0m: 'lugar-nacimiento'"
     ]
    }
   ],
   "source": [
    "df_personas['grupos_etarios'] = pd.cut(df_personas.edad, bins=[0, 14, 26, 59, 100], labels=['Niños', 'Jóvenes', 'Adultos', 'Mayores'])\n",
    "df_personas['grupos_etarios']\n",
    "df_personas.groupby(['grupos_etarios', 'lugar-nacimiento'])['grupos_etarios'].count()"
   ]
  },
  {
   "cell_type": "code",
   "execution_count": 115,
   "metadata": {},
   "outputs": [
    {
     "data": {
      "text/plain": [
       "<matplotlib.axes._subplots.AxesSubplot at 0x7f97f24e9438>"
      ]
     },
     "execution_count": 115,
     "metadata": {},
     "output_type": "execute_result"
    },
    {
     "data": {
      "image/png": "[encoded data removed]",
      "text/plain": [
       "<Figure size 432x288 with 1 Axes>"
      ]
     },
     "metadata": {
      "needs_background": "light"
     },
     "output_type": "display_data"
    }
   ],
   "source": [
    "edad = df_personas.edad[df_personas['sexo']== 'Masculino'].value_counts().to_frame()\n",
    "edad.plot.barh()"
   ]
  },
  {
   "cell_type": "code",
   "execution_count": 116,
   "metadata": {},
   "outputs": [
    {
     "data": {
      "text/plain": [
       "<matplotlib.axes._subplots.AxesSubplot at 0x7f9801030898>"
      ]
     },
     "execution_count": 116,
     "metadata": {},
     "output_type": "execute_result"
    },
    {
     "data": {
      "image/png": "[encoded data removed]",
      "text/plain": [
       "<Figure size 432x288 with 1 Axes>"
      ]
     },
     "metadata": {
      "needs_background": "light"
     },
     "output_type": "display_data"
    }
   ],
   "source": [
    "edad = df_personas.edad[df_personas['sexo']== 'Femenino'].value_counts().to_frame()\n",
    "edad.plot.barh()"
   ]
  },
  {
   "cell_type": "markdown",
   "metadata": {},
   "source": [
    "### Análisis de datos\n",
    "Analizar los datos poblacionales usando los tres _Dataframes_ creados con las fuentes _Json_."
   ]
  },
  {
   "cell_type": "code",
   "execution_count": 6,
   "metadata": {},
   "outputs": [
    {
     "name": "stdout",
     "output_type": "stream",
     "text": [
      "Viviendas: 239\n",
      "Hogares: 291\n",
      "Personas: 966\n"
     ]
    }
   ],
   "source": [
    "print('Viviendas: ' + str(len(df_viviendas)))\n",
    "print('Hogares: ' + str(len(df_hogares)))\n",
    "print('Personas: ' + str(len(df_personas)))"
   ]
  },
  {
   "cell_type": "code",
   "execution_count": 7,
   "metadata": {},
   "outputs": [
    {
     "data": {
      "text/html": [
       "<div>\n",
       "<style scoped>\n",
       "    .dataframe tbody tr th:only-of-type {\n",
       "        vertical-align: middle;\n",
       "    }\n",
       "\n",
       "    .dataframe tbody tr th {\n",
       "        vertical-align: top;\n",
       "    }\n",
       "\n",
       "    .dataframe thead th {\n",
       "        text-align: right;\n",
       "    }\n",
       "</style>\n",
       "<table border=\"1\" class=\"dataframe\">\n",
       "  <thead>\n",
       "    <tr style=\"text-align: right;\">\n",
       "      <th></th>\n",
       "      <th>viviendas</th>\n",
       "      <th>personas</th>\n",
       "    </tr>\n",
       "    <tr>\n",
       "      <th>encuestadora</th>\n",
       "      <th></th>\n",
       "      <th></th>\n",
       "    </tr>\n",
       "  </thead>\n",
       "  <tbody>\n",
       "    <tr>\n",
       "      <th>isabel_camargo</th>\n",
       "      <td>71</td>\n",
       "      <td>318</td>\n",
       "    </tr>\n",
       "    <tr>\n",
       "      <th>katherine_villareal</th>\n",
       "      <td>29</td>\n",
       "      <td>91</td>\n",
       "    </tr>\n",
       "    <tr>\n",
       "      <th>yolandita_moreno</th>\n",
       "      <td>44</td>\n",
       "      <td>207</td>\n",
       "    </tr>\n",
       "    <tr>\n",
       "      <th>yuleidis_villalobo</th>\n",
       "      <td>60</td>\n",
       "      <td>241</td>\n",
       "    </tr>\n",
       "    <tr>\n",
       "      <th>yuris_brons</th>\n",
       "      <td>35</td>\n",
       "      <td>109</td>\n",
       "    </tr>\n",
       "  </tbody>\n",
       "</table>\n",
       "</div>"
      ],
      "text/plain": [
       "                     viviendas  personas\n",
       "encuestadora                            \n",
       "isabel_camargo              71       318\n",
       "katherine_villareal         29        91\n",
       "yolandita_moreno            44       207\n",
       "yuleidis_villalobo          60       241\n",
       "yuris_brons                 35       109"
      ]
     },
     "execution_count": 7,
     "metadata": {},
     "output_type": "execute_result"
    }
   ],
   "source": [
    "viviendas_encuestadora = df_viviendas.groupby(['encuestadora'])['encuestadora'].count()\n",
    "personas_encuestadora = tabla.groupby(['encuestadora'])['encuestadora'].count()\n",
    "resultados_encuestadoras = pd.concat([viviendas_encuestadora, personas_encuestadora], axis=1)\n",
    "resultados_encuestadoras.columns = ['viviendas', 'personas']\n",
    "#resultados_encuestadoras['pers-viv'] = resultados_encuestadoras['personas']/resultados_encuestadoras['viviendas']\n",
    "resultados_encuestadoras"
   ]
  },
  {
   "cell_type": "code",
   "execution_count": 8,
   "metadata": {},
   "outputs": [
    {
     "name": "stdout",
     "output_type": "stream",
     "text": [
      "Días de encuesta: 69\n",
      "Viviendas por día: 3.463768115942029\n",
      "Viviendas día por encuestadora: 0.6927536231884057\n"
     ]
    }
   ],
   "source": [
    "dias = pd.to_datetime('today') - pd.to_datetime(df_viviendas['today'].min())\n",
    "print('Días de encuesta: ' + str(dias.days))\n",
    "print('Viviendas por día: ' + str(len(df_viviendas)/dias.days))\n",
    "print('Viviendas día por encuestadora: ' + str((len(df_viviendas)/dias.days)/len(resultados_encuestadoras)))"
   ]
  },
  {
   "cell_type": "code",
   "execution_count": 9,
   "metadata": {},
   "outputs": [
    {
     "data": {
      "text/plain": [
       "encuestadora\n",
       "isabel_camargo         2019-05-16\n",
       "katherine_villareal    2019-05-07\n",
       "yolandita_moreno       2019-05-20\n",
       "yuleidis_villalobo     2019-05-23\n",
       "yuris_brons            2021-09-03\n",
       "Name: today, dtype: object"
      ]
     },
     "execution_count": 9,
     "metadata": {},
     "output_type": "execute_result"
    }
   ],
   "source": [
    "df_viviendas.groupby(['encuestadora'])['today'].max()"
   ]
  },
  {
   "cell_type": "markdown",
   "metadata": {},
   "source": [
    "#### Viviendas censadas"
   ]
  },
  {
   "cell_type": "code",
   "execution_count": 13,
   "metadata": {},
   "outputs": [
    {
     "data": {
      "text/html": [
       "<div>\n",
       "<style scoped>\n",
       "    .dataframe tbody tr th:only-of-type {\n",
       "        vertical-align: middle;\n",
       "    }\n",
       "\n",
       "    .dataframe tbody tr th {\n",
       "        vertical-align: top;\n",
       "    }\n",
       "\n",
       "    .dataframe thead th {\n",
       "        text-align: right;\n",
       "    }\n",
       "</style>\n",
       "<table border=\"1\" class=\"dataframe\">\n",
       "  <thead>\n",
       "    <tr style=\"text-align: right;\">\n",
       "      <th></th>\n",
       "      <th>Sector</th>\n",
       "      <th>A censar</th>\n",
       "      <th>Censadas</th>\n",
       "      <th>Restantes</th>\n",
       "    </tr>\n",
       "  </thead>\n",
       "  <tbody>\n",
       "    <tr>\n",
       "      <th>0</th>\n",
       "      <td>El Mocho</td>\n",
       "      <td>95</td>\n",
       "      <td>63</td>\n",
       "      <td>32</td>\n",
       "    </tr>\n",
       "    <tr>\n",
       "      <th>1</th>\n",
       "      <td>Sector La Punta</td>\n",
       "      <td>49</td>\n",
       "      <td>30</td>\n",
       "      <td>19</td>\n",
       "    </tr>\n",
       "    <tr>\n",
       "      <th>2</th>\n",
       "      <td>Guinda Mono</td>\n",
       "      <td>69</td>\n",
       "      <td>17</td>\n",
       "      <td>52</td>\n",
       "    </tr>\n",
       "    <tr>\n",
       "      <th>3</th>\n",
       "      <td>Yazmin</td>\n",
       "      <td>39</td>\n",
       "      <td>37</td>\n",
       "      <td>2</td>\n",
       "    </tr>\n",
       "    <tr>\n",
       "      <th>4</th>\n",
       "      <td>Isleta</td>\n",
       "      <td>13</td>\n",
       "      <td>4</td>\n",
       "      <td>9</td>\n",
       "    </tr>\n",
       "    <tr>\n",
       "      <th>5</th>\n",
       "      <td>Petares</td>\n",
       "      <td>47</td>\n",
       "      <td>15</td>\n",
       "      <td>32</td>\n",
       "    </tr>\n",
       "    <tr>\n",
       "      <th>6</th>\n",
       "      <td>El Silencio</td>\n",
       "      <td>3</td>\n",
       "      <td>8</td>\n",
       "      <td>-5</td>\n",
       "    </tr>\n",
       "  </tbody>\n",
       "</table>\n",
       "</div>"
      ],
      "text/plain": [
       "            Sector  A censar  Censadas  Restantes\n",
       "0         El Mocho        95        63         32\n",
       "1  Sector La Punta        49        30         19\n",
       "2      Guinda Mono        69        17         52\n",
       "3           Yazmin        39        37          2\n",
       "4           Isleta        13         4          9\n",
       "5          Petares        47        15         32\n",
       "6      El Silencio         3         8         -5"
      ]
     },
     "execution_count": 13,
     "metadata": {},
     "output_type": "execute_result"
    }
   ],
   "source": [
    "a_censar = pd.read_csv('Censo Orika/Censo OIM/sectores a censar/viviendas-a-censar.csv')\n",
    "censadas = pd.read_csv('Censo Orika/Censo OIM/sectores a censar/viviendas-censadas.csv')\n",
    "restantes = a_censar['NUMPOINTS'] - censadas['NUMPOINTS']\n",
    "sectores = a_censar['name']\n",
    "viviendas_restantes = pd.concat([sectores, a_censar['NUMPOINTS'], censadas['NUMPOINTS'], restantes], axis=1)\n",
    "viviendas_restantes.columns=['Sector', 'A censar', 'Censadas', 'Restantes']\n",
    "viviendas_restantes"
   ]
  },
  {
   "cell_type": "code",
   "execution_count": 14,
   "metadata": {},
   "outputs": [
    {
     "name": "stdout",
     "output_type": "stream",
     "text": [
      "Viviendas censadas dentro de los sectores: 174\n",
      "Viviendas censadas fuera de los sectores: 44\n"
     ]
    }
   ],
   "source": [
    "print('Viviendas censadas dentro de los sectores: ' + str(censadas['NUMPOINTS'].sum()))\n",
    "print('Viviendas censadas fuera de los sectores: ' + str(218 - censadas['NUMPOINTS'].sum()))"
   ]
  },
  {
   "cell_type": "code",
   "execution_count": 66,
   "metadata": {},
   "outputs": [
    {
     "name": "stdout",
     "output_type": "stream",
     "text": [
      "Promedio de habitantes por vivienda: 4.01673640167364\n",
      "Maximo de habitantes por vivienda: 18\n",
      "Mínimo de habitantes por vivienda: 1\n",
      "Moda de habitantes por vivienda: 0    3\n",
      "dtype: int64\n",
      "Counts de habitantes por vivienda: 3     49\n",
      "4     48\n",
      "5     36\n",
      "2     34\n",
      "1     26\n",
      "6     16\n",
      "8     14\n",
      "7      9\n",
      "9      4\n",
      "18     1\n",
      "12     1\n",
      "10     1\n",
      "Name: habitantes_vivienda, dtype: int64\n"
     ]
    }
   ],
   "source": [
    "print('Promedio de habitantes por vivienda: ' + str(df_viviendas['habitantes_vivienda'].mean()))\n",
    "print('Maximo de habitantes por vivienda: ' + str(df_viviendas['habitantes_vivienda'].max()))\n",
    "print('Mínimo de habitantes por vivienda: ' + str(df_viviendas['habitantes_vivienda'].min()))\n",
    "print('Moda de habitantes por vivienda: ' + str(df_viviendas['habitantes_vivienda'].mode()))\n",
    "print('Counts de habitantes por vivienda: ' + str(df_viviendas['habitantes_vivienda'].value_counts()))"
   ]
  },
  {
   "cell_type": "code",
   "execution_count": 69,
   "metadata": {},
   "outputs": [
    {
     "data": {
      "text/plain": [
       "<matplotlib.axes._subplots.AxesSubplot at 0x7f97fbb2ecf8>"
      ]
     },
     "execution_count": 69,
     "metadata": {},
     "output_type": "execute_result"
    },
    {
     "data": {
      "image/png": "[encoded data removed]",
      "text/plain": [
       "<Figure size 432x288 with 1 Axes>"
      ]
     },
     "metadata": {
      "needs_background": "light"
     },
     "output_type": "display_data"
    }
   ],
   "source": [
    "df_viviendas['habitantes_vivienda'].plot.hist()"
   ]
  },
  {
   "cell_type": "code",
   "execution_count": 9,
   "metadata": {},
   "outputs": [
    {
     "data": {
      "text/plain": [
       "tipo-tenencia\n",
       "arriendo     21\n",
       "familiar     11\n",
       "otro          3\n",
       "propia      144\n",
       "trabajo      60\n",
       "Name: tipo-tenencia, dtype: int64"
      ]
     },
     "execution_count": 9,
     "metadata": {},
     "output_type": "execute_result"
    }
   ],
   "source": [
    "df_viviendas.groupby(['tipo-tenencia'])['tipo-tenencia'].count()"
   ]
  },
  {
   "cell_type": "code",
   "execution_count": 11,
   "metadata": {},
   "outputs": [
    {
     "data": {
      "text/plain": [
       "tipo-tenencia_otro\n",
       "Acentral             1\n",
       "Vivienda prestada    1\n",
       "prestada             1\n",
       "Name: tipo-tenencia_otro, dtype: int64"
      ]
     },
     "execution_count": 11,
     "metadata": {},
     "output_type": "execute_result"
    }
   ],
   "source": [
    "df_viviendas.groupby(['tipo-tenencia_otro'])['tipo-tenencia_otro'].count()"
   ]
  },
  {
   "cell_type": "code",
   "execution_count": 10,
   "metadata": {},
   "outputs": [
    {
     "name": "stdout",
     "output_type": "stream",
     "text": [
      "Edad promedio de las vivendas: 16.812455918909606 años.\n"
     ]
    }
   ],
   "source": [
    "print('Edad promedio de las vivendas: ' + str(df_viviendas['edad_construccion'].mean()) + ' años.')"
   ]
  },
  {
   "cell_type": "code",
   "execution_count": 13,
   "metadata": {},
   "outputs": [
    {
     "data": {
      "text/plain": [
       "Index(['__Submissions-HOGARES-id', '__id', 'ano-residencia-persona',\n",
       "       'apellidos', 'autoidentificacion', 'autoidentificacion_otra',\n",
       "       'lugar-nacimiento', 'lugar-nacimiento_otro', 'nacimiento',\n",
       "       'nivel-educativo', 'nombre-madre', 'nombre-padre', 'nombres',\n",
       "       'ocupacion', 'ocupacion_otra', 'parentesco', 'parentesco_otro',\n",
       "       'saberes-ancentrales', 'saberes-ancentrales_otro', 'sexo'],\n",
       "      dtype='object')"
      ]
     },
     "execution_count": 13,
     "metadata": {},
     "output_type": "execute_result"
    }
   ],
   "source": [
    "df_personas.columns"
   ]
  },
  {
   "cell_type": "code",
   "execution_count": 45,
   "metadata": {},
   "outputs": [
    {
     "data": {
      "text/plain": [
       "<matplotlib.axes._subplots.AxesSubplot at 0x7f95517d4470>"
      ]
     },
     "execution_count": 45,
     "metadata": {},
     "output_type": "execute_result"
    },
    {
     "data": {
      "image/png": "[encoded data removed]",
      "text/plain": [
       "<Figure size 432x288 with 1 Axes>"
      ]
     },
     "metadata": {
      "needs_background": "light"
     },
     "output_type": "display_data"
    }
   ],
   "source": [
    "df_personas.groupby(['lugar-nacimiento'])['lugar-nacimiento'].count().sort_values(ascending=False).plot.barh()"
   ]
  },
  {
   "cell_type": "code",
   "execution_count": 76,
   "metadata": {},
   "outputs": [
    {
     "data": {
      "image/png": "[encoded data removed]",
      "text/plain": [
       "<Figure size 534.975x360 with 1 Axes>"
      ]
     },
     "metadata": {},
     "output_type": "display_data"
    }
   ],
   "source": [
    "sns.catplot(x='sexo', y='edad', hue='nivel-educativo', order=[\"Femenino\", \"Masculino\"], kind=\"swarm\", data=df_personas);"
   ]
  },
  {
   "cell_type": "code",
   "execution_count": 151,
   "metadata": {},
   "outputs": [
    {
     "data": {
      "text/plain": [
       "<seaborn.axisgrid.FacetGrid at 0x7f29d62b98d0>"
      ]
     },
     "execution_count": 151,
     "metadata": {},
     "output_type": "execute_result"
    },
    {
     "data": {
      "image/png": "[encoded data removed]",
      "text/plain": [
       "<Figure size 937x595.44 with 1 Axes>"
      ]
     },
     "metadata": {},
     "output_type": "display_data"
    }
   ],
   "source": [
    "# Read data\n",
    "#df = pd.read_csv(\"https://raw.githubusercontent.com/selva86/datasets/master/email_campaign_funnel.csv\")\n",
    "\n",
    "'''\n",
    "Población de referencia OMS | Grupo de Edad\n",
    "8860|De 0 a 4 años\n",
    "8690|De 5 a 9 años\n",
    "8600|De 10 a 14 años\n",
    "8470|De 15 a 19 años\n",
    "8220|De 20 a 24 años\n",
    "7930|De 25 a 29 años\n",
    "7610|De 30 a 34 años\n",
    "7150|De 35 a 39 años\n",
    "6590|De 40 a 44 años\n",
    "6040|De 45 a 49 años\n",
    "5370|De 50 a 54 años\n",
    "4550|De 55 a 59 años\n",
    "3720|De 60 a 64 años\n",
    "2960|De 65 a 69 años\n",
    "2210|De 70 a 74 años\n",
    "1520|De 75 a 79 años\n",
    "1510|De 80 y más años\n",
    "'''\n",
    "\n",
    "\n",
    "sns.catplot(x='nivel-educativo', y='edad', hue='sexo', order=['ninguno', 'primaria-incompleta', 'primaria-completa',\n",
    "       'secundaria-incompleta', 'secundaria-completa', 'tecnico-incompleto', 'tecnico-completo', 'tecnologo-incompleto', \n",
    "       'tecnologo-completo', 'universitario-incompleto','universitario-completo', 'postgrado'],\n",
    "        kind=\"swarm\", dodge=True, data=df_personas, height=8.27, aspect=11.7/8.27).set_xticklabels(['Ngn', 'P-I',\n",
    "                                                            'P-C', 'S-I','S-C','Tc-I', 'Tc-C', 'Tl-I', 'Tl-C','U-I',\n",
    "                                                             'U-C', 'Psg'])\n"
   ]
  },
  {
   "cell_type": "code",
   "execution_count": 63,
   "metadata": {},
   "outputs": [
    {
     "data": {
      "text/plain": [
       "estudiante                  262\n",
       "serviciosturisticos         244\n",
       "ama-o-decasa                146\n",
       "otra                        143\n",
       "sinoficiouocupacion          82\n",
       "celador                      66\n",
       "laboresdelhogar              61\n",
       "pesca                        53\n",
       "oficiosdomesticos            28\n",
       "comercio                     27\n",
       "construccion                 26\n",
       "actividadesagropecuarias      2\n",
       "cuidadodepersonas             1\n",
       "dtype: int64"
      ]
     },
     "execution_count": 63,
     "metadata": {},
     "output_type": "execute_result"
    }
   ],
   "source": [
    "ocupacion = df_personas['ocupacion'].str.split(' ', expand=True).stack().value_counts()\n",
    "#ocupacion = df_personas['ocupacion'].str.split(' ', expand=True)\n",
    "ocupacion"
   ]
  },
  {
   "cell_type": "code",
   "execution_count": 8,
   "metadata": {},
   "outputs": [
    {
     "ename": "SyntaxError",
     "evalue": "can't assign to operator (<ipython-input-8-75897b69367f>, line 1)",
     "output_type": "error",
     "traceback": [
      "\u001b[0;36m  File \u001b[0;32m\"<ipython-input-8-75897b69367f>\"\u001b[0;36m, line \u001b[0;32m1\u001b[0m\n\u001b[0;31m    saberes-ancentrales = df_personas['saberes-ancentrales'].str.split(' ', expand=True).stack().value_counts()\u001b[0m\n\u001b[0m                                                                                                               ^\u001b[0m\n\u001b[0;31mSyntaxError\u001b[0m\u001b[0;31m:\u001b[0m can't assign to operator\n"
     ]
    }
   ],
   "source": [
    "saberes-ancentrales = df_personas['saberes-ancentrales'].str.split(' ', expand=True).stack().value_counts()\n",
    "saberes-ancentrales"
   ]
  },
  {
   "cell_type": "code",
   "execution_count": 62,
   "metadata": {},
   "outputs": [
    {
     "data": {
      "image/png": "[encoded data removed]",
      "text/plain": [
       "<Figure size 928.4x595.44 with 1 Axes>"
      ]
     },
     "metadata": {
      "needs_background": "light"
     },
     "output_type": "display_data"
    }
   ],
   "source": [
    "sns.catplot(x=\"grupos_etarios\", y=\"edad\", hue=\"sexo\",\n",
    "            kind=\"violin\", split=True, data=df_personas, \n",
    "            height=8.27, aspect=11.7/8.27, inner=\"stick\", palette='pastel');"
   ]
  },
  {
   "cell_type": "code",
   "execution_count": null,
   "metadata": {},
   "outputs": [],
   "source": []
  },
  {
   "cell_type": "code",
   "execution_count": 148,
   "metadata": {},
   "outputs": [
    {
     "data": {
      "image/png": "[encoded data removed]",
      "text/plain": [
       "<Figure size 1040x800 with 1 Axes>"
      ]
     },
     "metadata": {},
     "output_type": "display_data"
    }
   ],
   "source": [
    "'''\n",
    "Población de referencia OMS | Grupo de Edad\n",
    "8860|De 0 a 4 años\n",
    "8690|De 5 a 9 años\n",
    "8600|De 10 a 14 años\n",
    "8470|De 15 a 19 años\n",
    "8220|De 20 a 24 años\n",
    "7930|De 25 a 29 años\n",
    "7610|De 30 a 34 años\n",
    "7150|De 35 a 39 años\n",
    "6590|De 40 a 44 años\n",
    "6040|De 45 a 49 años\n",
    "5370|De 50 a 54 años\n",
    "4550|De 55 a 59 años\n",
    "3720|De 60 a 64 años\n",
    "2960|De 65 a 69 años\n",
    "2210|De 70 a 74 años\n",
    "1520|De 75 a 79 años\n",
    "1510|De 80 y más años\n",
    "'''\n",
    "# Adicionar columna de segmentos de población OMS\n",
    "df_personas['poblacion_oms'] = pd.cut(df_personas.edad, bins=[0, 4, 9, 14, 19, 24, 29, 34, 39, 44, 49, 54,\n",
    "                                                               59, 64, 69, 74, 79, 100],\n",
    "                                labels=['0 a 4',\n",
    "                                        '5 a 9',\n",
    "                                        '10 a 14',\n",
    "                                        '15 a 19',\n",
    "                                        '20 a 24',\n",
    "                                        '25 a 29',\n",
    "                                        '30 a 34',\n",
    "                                        '35 a 39',\n",
    "                                        '40 a 44',\n",
    "                                        '45 a 49',\n",
    "                                        '50 a 54',\n",
    "                                        '55 a 59',\n",
    "                                        '60 a 64',\n",
    "                                        '65 a 69',\n",
    "                                        '70 a 74',\n",
    "                                        '75 a 79',\n",
    "                                        '+80'\n",
    "                                       ])\n",
    "# Create dataset\n",
    "grupo_m = df_personas[df_personas['sexo']=='Masculino'].groupby(['poblacion_oms'])['poblacion_oms'].count().to_frame()\n",
    "grupo_m['sexo'] = ['Masculino'] * len(grupo_m)\n",
    "grupo_f = df_personas[df_personas['sexo']=='Femenino'].groupby(['poblacion_oms'])['poblacion_oms'].count().to_frame()\n",
    "grupo_f['sexo'] = ['Femenino'] * len(grupo_f)\n",
    "piramide = pd.concat([grupo_m, grupo_f])\n",
    "piramide.loc[piramide.sexo != 'Femenino', 'poblacion_oms'] *= -1\n",
    "piramide['grupos'] = piramide.index\n",
    "piramide.columns = ['total', 'sexo', 'grupo']\n",
    "piramide.reset_index(drop=True, inplace=True)\n",
    "piramide\n",
    "\n",
    "\n",
    "# Read data\n",
    "df = piramide\n",
    "\n",
    "# Draw Plot\n",
    "plt.figure(figsize=(13,10), dpi= 80)\n",
    "group_col = 'sexo'\n",
    "order_of_bars = df.grupo.unique()[::-1]\n",
    "colors = [plt.cm.bwr(i/float(len(df[group_col].unique())-1)) for i in range(len(df[group_col].unique()))]\n",
    "\n",
    "for c, group in zip(colors, df[group_col].unique()):\n",
    "    sns.barplot(x='total', y='grupo', data=df.loc[df[group_col]==group, :], order=order_of_bars, color=c, label=group)\n",
    "\n",
    "# Decorations    \n",
    "plt.xlabel(\"$Total$\")\n",
    "plt.ylabel(\"Edad\")\n",
    "plt.yticks(fontsize=12)\n",
    "plt.title(\"Piramide Poblacional - Orika\", fontsize=22)\n",
    "plt.legend()\n",
    "plt.show()"
   ]
  },
  {
   "cell_type": "code",
   "execution_count": 15,
   "metadata": {},
   "outputs": [
    {
     "data": {
      "text/plain": [
       "autoidentificacion\n",
       "afrocolombiano-a-    560\n",
       "blanco-a-             12\n",
       "mestizo-a-            37\n",
       "moreno-a-             76\n",
       "negro-a-             280\n",
       "otra                   1\n",
       "Name: autoidentificacion, dtype: int64"
      ]
     },
     "execution_count": 15,
     "metadata": {},
     "output_type": "execute_result"
    }
   ],
   "source": [
    "df_personas.groupby(['autoidentificacion'])['autoidentificacion'].count()"
   ]
  },
  {
   "cell_type": "code",
   "execution_count": 17,
   "metadata": {},
   "outputs": [
    {
     "data": {
      "text/plain": [
       "ocupacion\n",
       "actividadesagropecuarias                                                        1\n",
       "actividadesagropecuarias otra                                                   1\n",
       "ama-o-decasa                                                                   62\n",
       "ama-o-decasa celador                                                            2\n",
       "ama-o-decasa comercio                                                           2\n",
       "ama-o-decasa comercio serviciosturisticos                                       1\n",
       "ama-o-decasa laboresdelhogar                                                   15\n",
       "ama-o-decasa otra                                                              14\n",
       "ama-o-decasa serviciosturisticos                                                2\n",
       "celador                                                                        49\n",
       "celador ama-o-decasa                                                            2\n",
       "celador construccion                                                            1\n",
       "celador laboresdelhogar                                                         1\n",
       "celador otra                                                                    1\n",
       "celador pesca                                                                   2\n",
       "celador serviciosturisticos ama-o-decasa laboresdelhogar oficiosdomesticos      1\n",
       "celador serviciosturisticos laboresdelhogar                                     1\n",
       "comercio                                                                       10\n",
       "comercio ama-o-decasa                                                           4\n",
       "comercio ama-o-decasa otra                                                      1\n",
       "comercio oficiosdomesticos                                                      1\n",
       "comercio otra                                                                   1\n",
       "comercio serviciosturisticos                                                    4\n",
       "construccion                                                                   18\n",
       "construccion celador                                                            1\n",
       "construccion otra                                                               3\n",
       "cuidadodepersonas                                                               1\n",
       "estudiante                                                                    260\n",
       "estudiante serviciosturisticos                                                  1\n",
       "laboresdelhogar                                                                10\n",
       "                                                                             ... \n",
       "otra                                                                          108\n",
       "otra construccion                                                               1\n",
       "otra laboresdelhogar                                                            1\n",
       "otra serviciosturisticos                                                        4\n",
       "pesca                                                                          31\n",
       "pesca celador                                                                   2\n",
       "pesca construccion                                                              1\n",
       "pesca estudiante                                                                1\n",
       "pesca laboresdelhogar ama-o-decasa                                              1\n",
       "pesca otra                                                                      1\n",
       "pesca serviciosturisticos                                                       7\n",
       "pesca serviciosturisticos ama-o-decasa                                          1\n",
       "pesca serviciosturisticos laboresdelhogar                                       1\n",
       "pesca serviciosturisticos laboresdelhogar construccion                          1\n",
       "serviciosturisticos                                                           177\n",
       "serviciosturisticos ama-o-decasa                                                8\n",
       "serviciosturisticos ama-o-decasa laboresdelhogar                                3\n",
       "serviciosturisticos ama-o-decasa oficiosdomesticos                              3\n",
       "serviciosturisticos celador                                                     3\n",
       "serviciosturisticos comercio                                                    2\n",
       "serviciosturisticos comercio otra                                               1\n",
       "serviciosturisticos laboresdelhogar                                             1\n",
       "serviciosturisticos laboresdelhogar ama-o-decasa                                4\n",
       "serviciosturisticos laboresdelhogar ama-o-decasa oficiosdomesticos              1\n",
       "serviciosturisticos oficiosdomesticos                                           3\n",
       "serviciosturisticos oficiosdomesticos otra                                      1\n",
       "serviciosturisticos otra                                                        4\n",
       "serviciosturisticos pesca                                                       3\n",
       "serviciosturisticos pesca laboresdelhogar ama-o-decasa                          1\n",
       "sinoficiouocupacion                                                            82\n",
       "Name: ocupacion, Length: 69, dtype: int64"
      ]
     },
     "execution_count": 17,
     "metadata": {},
     "output_type": "execute_result"
    }
   ],
   "source": [
    "df_personas.groupby(['ocupacion'])['ocupacion'].count()"
   ]
  },
  {
   "cell_type": "code",
   "execution_count": 18,
   "metadata": {},
   "outputs": [
    {
     "data": {
      "text/plain": [
       "saberes-ancentrales\n",
       "Cocina-tradicional                                                            81\n",
       "Cocina-tradicional baile                                                       3\n",
       "Cocina-tradicional musica baile gallero siembra pesca                          1\n",
       "Cocina-tradicional otro                                                        3\n",
       "Cocina-tradicional pesca                                                       5\n",
       "Cocina-tradicional pesca baile                                                 1\n",
       "Cocina-tradicional pesca siembra                                               1\n",
       "Cocina-tradicional siembra                                                     4\n",
       "Medicina-tradicional                                                           5\n",
       "Medicina-tradicional Cocina-tradicional                                        2\n",
       "Medicina-tradicional otro                                                      1\n",
       "baile                                                                         51\n",
       "baile Cocina-tradicional                                                      10\n",
       "baile gallero                                                                  1\n",
       "baile musica                                                                   8\n",
       "baile musica Cocina-tradicional                                                1\n",
       "baile musica pesca                                                             2\n",
       "baile pesca                                                                    2\n",
       "gallero                                                                       18\n",
       "gallero baile                                                                  4\n",
       "gallero musica                                                                 2\n",
       "gallero musica baile                                                           1\n",
       "gallero pesca                                                                 12\n",
       "gallero pesca musica Cocina-tradicional                                        1\n",
       "gallero siembra                                                                2\n",
       "musica                                                                        21\n",
       "musica Cocina-tradicional                                                      2\n",
       "musica Cocina-tradicional pesca                                                1\n",
       "musica baile                                                                   6\n",
       "musica pesca                                                                   1\n",
       "                                                                              ..\n",
       "pesca gallero musica baile Cocina-tradicional                                  1\n",
       "pesca gallero siembra                                                          2\n",
       "pesca musica                                                                   5\n",
       "pesca musica baile                                                             1\n",
       "pesca otro                                                                     1\n",
       "pesca siembra                                                                 24\n",
       "pesca siembra Cocina-tradicional                                               3\n",
       "pesca siembra Cocina-tradicional Medicina-tradicional baile                    1\n",
       "pesca siembra baile                                                            1\n",
       "pesca siembra baile Cocina-tradicional                                         1\n",
       "pesca siembra gallero                                                          3\n",
       "pesca siembra gallero baile                                                    1\n",
       "pesca siembra gallero baile Cocina-tradicional musica Medicina-tradicional     1\n",
       "pesca siembra gallero baile musica Cocina-tradicional                          3\n",
       "pesca siembra gallero baile musica Cocina-tradicional Medicina-tradicional     1\n",
       "pesca siembra gallero baile musica Medicina-tradicional                        1\n",
       "pesca siembra musica                                                           1\n",
       "pesca siembra musica Cocina-tradicional                                        1\n",
       "pesca siembra musica Medicina-tradicional Cocina-tradicional                   1\n",
       "siembra                                                                       26\n",
       "siembra Cocina-tradicional                                                     3\n",
       "siembra Medicina-tradicional                                                   1\n",
       "siembra baile                                                                  1\n",
       "siembra gallero pesca baile Cocina-tradicional                                 1\n",
       "siembra musica Medicina-tradicional                                            1\n",
       "siembra musica baile                                                           1\n",
       "siembra pesca                                                                  7\n",
       "siembra pesca Cocina-tradicional                                               1\n",
       "siembra pesca Cocina-tradicional Medicina-tradicional                          1\n",
       "siembra pesca baile musica                                                     1\n",
       "Name: saberes-ancentrales, Length: 79, dtype: int64"
      ]
     },
     "execution_count": 18,
     "metadata": {},
     "output_type": "execute_result"
    }
   ],
   "source": [
    "df_personas.groupby(['saberes-ancentrales'])['saberes-ancentrales'].count()"
   ]
  },
  {
   "cell_type": "code",
   "execution_count": 16,
   "metadata": {},
   "outputs": [
    {
     "data": {
      "text/plain": [
       "nivel-educativo\n",
       "ninguno                     118\n",
       "postgrado                     7\n",
       "primaria-completa            66\n",
       "primaria-incompleta         262\n",
       "secundaria-completa         152\n",
       "secundaria-incompleta       263\n",
       "tecnico-completo             29\n",
       "tecnico-incompleto           23\n",
       "tecnologo-completo           11\n",
       "tecnologo-incompleto          5\n",
       "universitario-completo       15\n",
       "universitario-incompleto     15\n",
       "Name: nivel-educativo, dtype: int64"
      ]
     },
     "execution_count": 16,
     "metadata": {},
     "output_type": "execute_result"
    }
   ],
   "source": [
    "df_personas.groupby(['nivel-educativo'])['nivel-educativo'].count()"
   ]
  },
  {
   "cell_type": "code",
   "execution_count": 11,
   "metadata": {},
   "outputs": [],
   "source": [
    "orika = pd.read_csv('censo-orika - results.csv')\n",
    "orika['censo-orika-name'] = orika['censo-orika-numero_edificacion']\n",
    "coordenadas = orika['censo-orika-coordenadas'].str.split(pat=',', expand=True)\n",
    "orika['latitud'] = coordenadas[0]\n",
    "orika['longitud'] = coordenadas[1]\n",
    "orika['wkt'] = list(zip(pd.to_numeric(orika['longitud']), pd.to_numeric(orika['latitud'])))\n",
    "orika['wkt'] = orika['wkt'].apply(Point)\n",
    "orika['edad_construccion'] = (pd.to_datetime(pd.Series([pd.to_datetime('today').date()] * len(orika['censo-orika-fecha_construccion']))) - pd.to_datetime(orika['censo-orika-fecha_construccion'])) / np.timedelta64(1, 'Y')\n",
    "orika['edad_construccion'] = orika['edad_construccion'].astype(int)\n",
    "orika['tiempo_habitar'] = (pd.to_datetime(pd.Series([pd.to_datetime('today').date()] * len(orika['censo-orika-fecha_habitar']))) - pd.to_datetime(orika['censo-orika-fecha_habitar'])) / np.timedelta64(1, 'Y')\n",
    "orika['tiempo_habitar'] = orika['tiempo_habitar'].astype(int)\n",
    "orika.to_csv('orika.csv',\n",
    "header=['fecha','inicio','final','deviceid','numero_edificacion','coordenadas','coordenadas-altitude',\n",
    "'coordenadas-accuracy','tipo_edificacion','tipo_edificacion_otra','responsable_hogar',\n",
    "'procedencia','procedencia_otra','habitantes','fecha_construccion','fecha_habitar','name','description','firma','nota',\n",
    "'instanceID','instanceName','latitud','longitud','wkt', 'edad_construccion','tiempo_habitar'], index=False)\n",
    "# Convertirlo Excel\n",
    "# Si hay un tipo 'other' adicionarlo en el campo 'description'"
   ]
  },
  {
   "cell_type": "code",
   "execution_count": 13,
   "metadata": {},
   "outputs": [
    {
     "data": {
      "text/plain": [
       "Index(['numero_edificacion', 'tipo_edificacion', 'tipo_edificacion_otra',\n",
       "       'responsable_hogar', 'procedencia', 'procedencia_otra', 'habitantes',\n",
       "       'fecha_construccion', 'fecha_habitar', 'latitud', 'longitud', 'wkt',\n",
       "       'edad_construccion', 'tiempo_habitar'],\n",
       "      dtype='object')"
      ]
     },
     "execution_count": 13,
     "metadata": {},
     "output_type": "execute_result"
    }
   ],
   "source": [
    "censo = pd.read_csv('orika.csv',\n",
    "                    parse_dates=['fecha_construccion','fecha_habitar'],\n",
    "                   usecols=[4,8,9,10,11,12,13,14,15,22,23,24,25,26])\n",
    "censo.columns"
   ]
  },
  {
   "cell_type": "code",
   "execution_count": 14,
   "metadata": {},
   "outputs": [
    {
     "name": "stdout",
     "output_type": "stream",
     "text": [
      "población en viviendas = 488\n",
      "densidad de población = 3.189542483660131\n"
     ]
    }
   ],
   "source": [
    "poblacion_viviendas = censo['habitantes'][censo['tipo_edificacion'] != 'lote'].sum()\n",
    "print('población en viviendas = ' + str(poblacion_viviendas))\n",
    "print('densidad de población = ' + str(poblacion_viviendas/len(censo[censo['tipo_edificacion'] != 'lote'])))"
   ]
  },
  {
   "cell_type": "code",
   "execution_count": 15,
   "metadata": {},
   "outputs": [
    {
     "data": {
      "text/plain": [
       "tipo_edificacion\n",
       "cantina          5\n",
       "colegio          1\n",
       "gallera          1\n",
       "hotel            1\n",
       "lote            85\n",
       "other           15\n",
       "restaurante      2\n",
       "tienda           4\n",
       "vivienda       124\n",
       "Name: tipo_edificacion, dtype: int64"
      ]
     },
     "execution_count": 15,
     "metadata": {},
     "output_type": "execute_result"
    }
   ],
   "source": [
    "censo.groupby(['tipo_edificacion'])['tipo_edificacion'].count()"
   ]
  },
  {
   "cell_type": "code",
   "execution_count": 16,
   "metadata": {},
   "outputs": [
    {
     "data": {
      "text/plain": [
       "7.19327731092437"
      ]
     },
     "execution_count": 16,
     "metadata": {},
     "output_type": "execute_result"
    }
   ],
   "source": [
    "censo['edad_construccion'].mean()"
   ]
  },
  {
   "cell_type": "code",
   "execution_count": 17,
   "metadata": {},
   "outputs": [
    {
     "data": {
      "text/plain": [
       "tipo_edificacion\n",
       "cantina         7.000000\n",
       "colegio        42.000000\n",
       "gallera         3.000000\n",
       "hotel           9.000000\n",
       "lote            0.705882\n",
       "other          10.800000\n",
       "restaurante     4.500000\n",
       "tienda          8.750000\n",
       "vivienda       10.943548\n",
       "Name: edad_construccion, dtype: float64"
      ]
     },
     "execution_count": 17,
     "metadata": {},
     "output_type": "execute_result"
    }
   ],
   "source": [
    "censo.groupby(['tipo_edificacion'])['edad_construccion'].mean()"
   ]
  },
  {
   "cell_type": "code",
   "execution_count": 18,
   "metadata": {},
   "outputs": [
    {
     "data": {
      "text/plain": [
       "tipo_edificacion\n",
       "cantina          5\n",
       "colegio          1\n",
       "gallera          1\n",
       "hotel            1\n",
       "lote            85\n",
       "other           15\n",
       "restaurante      2\n",
       "tienda           4\n",
       "vivienda       124\n",
       "Name: tipo_edificacion, dtype: int64"
      ]
     },
     "execution_count": 18,
     "metadata": {},
     "output_type": "execute_result"
    }
   ],
   "source": [
    "censo.groupby(['tipo_edificacion'])['tipo_edificacion'].count()"
   ]
  },
  {
   "cell_type": "code",
   "execution_count": 19,
   "metadata": {},
   "outputs": [
    {
     "data": {
      "text/plain": [
       "tipo_edificacion_otra\n",
       "                                                    223\n",
       "Bodega                                                1\n",
       "Eco taller                                            1\n",
       "Eco-Hotel                                             1\n",
       "Ecohotel                                              1\n",
       "Ecotel                                                1\n",
       "Hogar Comunitario                                     1\n",
       "Iglesia                                               1\n",
       "Iglesia Pentecostal Unida de Colombia                 1\n",
       "Negocio de Artesanías                                 1\n",
       "Negocio de Variedades                                 1\n",
       "Puesto de salud                                       1\n",
       "Unidad comunitaria de Atención MUNDO MARINO ICBF      1\n",
       "Variedades y ferreteria                               1\n",
       "Vivero                                                1\n",
       "Área Pública (Casa Cultural)                          1\n",
       "Name: tipo_edificacion_otra, dtype: int64"
      ]
     },
     "execution_count": 19,
     "metadata": {},
     "output_type": "execute_result"
    }
   ],
   "source": [
    "censo.groupby(['tipo_edificacion_otra'])['tipo_edificacion_otra'].count()"
   ]
  },
  {
   "cell_type": "code",
   "execution_count": 20,
   "metadata": {},
   "outputs": [
    {
     "data": {
      "text/plain": [
       "procedencia\n",
       "                   2\n",
       "baru              54\n",
       "bocachica          2\n",
       "clemencia          1\n",
       "isla grande       68\n",
       "marialabaja        4\n",
       "other             17\n",
       "punta arena        1\n",
       "san onofre         1\n",
       "santa ana          1\n",
       "santa catalina     1\n",
       "turbaco            1\n",
       "Name: procedencia, dtype: int64"
      ]
     },
     "execution_count": 20,
     "metadata": {},
     "output_type": "execute_result"
    }
   ],
   "source": [
    "censo[censo['tipo_edificacion'] != 'lote'].groupby(['procedencia'])['procedencia'].count()"
   ]
  },
  {
   "cell_type": "code",
   "execution_count": 21,
   "metadata": {},
   "outputs": [
    {
     "data": {
      "text/html": [
       "<div>\n",
       "<style scoped>\n",
       "    .dataframe tbody tr th:only-of-type {\n",
       "        vertical-align: middle;\n",
       "    }\n",
       "\n",
       "    .dataframe tbody tr th {\n",
       "        vertical-align: top;\n",
       "    }\n",
       "\n",
       "    .dataframe thead th {\n",
       "        text-align: right;\n",
       "    }\n",
       "</style>\n",
       "<table border=\"1\" class=\"dataframe\">\n",
       "  <thead>\n",
       "    <tr style=\"text-align: right;\">\n",
       "      <th></th>\n",
       "      <th>numero_edificacion</th>\n",
       "      <th>tipo_edificacion</th>\n",
       "      <th>tipo_edificacion_otra</th>\n",
       "      <th>responsable_hogar</th>\n",
       "      <th>procedencia</th>\n",
       "      <th>procedencia_otra</th>\n",
       "      <th>habitantes</th>\n",
       "      <th>fecha_construccion</th>\n",
       "      <th>fecha_habitar</th>\n",
       "      <th>latitud</th>\n",
       "      <th>longitud</th>\n",
       "      <th>wkt</th>\n",
       "      <th>edad_construccion</th>\n",
       "      <th>tiempo_habitar</th>\n",
       "    </tr>\n",
       "  </thead>\n",
       "  <tbody>\n",
       "    <tr>\n",
       "      <th>115</th>\n",
       "      <td>132</td>\n",
       "      <td>vivienda</td>\n",
       "      <td></td>\n",
       "      <td>Roberto Carlos Gómez</td>\n",
       "      <td>isla grande</td>\n",
       "      <td></td>\n",
       "      <td>4</td>\n",
       "      <td>2017-01-01</td>\n",
       "      <td>2018-01-01</td>\n",
       "      <td>10.175877</td>\n",
       "      <td>-75.743473</td>\n",
       "      <td>POINT (-75.74347333333334 10.17587666666667)</td>\n",
       "      <td>2</td>\n",
       "      <td>1</td>\n",
       "    </tr>\n",
       "  </tbody>\n",
       "</table>\n",
       "</div>"
      ],
      "text/plain": [
       "     numero_edificacion tipo_edificacion tipo_edificacion_otra  \\\n",
       "115                 132         vivienda                         \n",
       "\n",
       "        responsable_hogar  procedencia procedencia_otra  habitantes  \\\n",
       "115  Roberto Carlos Gómez  isla grande                            4   \n",
       "\n",
       "    fecha_construccion fecha_habitar    latitud   longitud  \\\n",
       "115         2017-01-01    2018-01-01  10.175877 -75.743473   \n",
       "\n",
       "                                              wkt  edad_construccion  \\\n",
       "115  POINT (-75.74347333333334 10.17587666666667)                  2   \n",
       "\n",
       "     tiempo_habitar  \n",
       "115               1  "
      ]
     },
     "execution_count": 21,
     "metadata": {},
     "output_type": "execute_result"
    }
   ],
   "source": [
    "censo[censo['numero_edificacion'] == 132]"
   ]
  },
  {
   "cell_type": "code",
   "execution_count": 22,
   "metadata": {},
   "outputs": [
    {
     "data": {
      "text/plain": [
       "procedencia\n",
       "                    1\n",
       "baru              162\n",
       "bocachica           5\n",
       "clemencia           1\n",
       "isla grande       232\n",
       "marialabaja        14\n",
       "other              63\n",
       "punta arena         1\n",
       "san onofre          0\n",
       "santa ana           0\n",
       "santa catalina      4\n",
       "tolu                0\n",
       "turbaco             5\n",
       "Name: habitantes, dtype: int64"
      ]
     },
     "execution_count": 22,
     "metadata": {},
     "output_type": "execute_result"
    }
   ],
   "source": [
    "censo.groupby(['procedencia'])['habitantes'].sum()"
   ]
  },
  {
   "cell_type": "code",
   "execution_count": 32,
   "metadata": {},
   "outputs": [
    {
     "data": {
      "text/plain": [
       "procedencia_otra\n",
       "                                  210\n",
       "Cartagena                           8\n",
       "Cartagena Corralito de piedras      1\n",
       "Guajira                             1\n",
       "Libertad Córdoba                    1\n",
       "Libertad Sucre                      1\n",
       "Lorica                              1\n",
       "Marialabaja                         1\n",
       "Maríalabaja                         2\n",
       "Momil Córdoba                       4\n",
       "No Aplica                           1\n",
       "No aplica                           1\n",
       "Puerto Escondido Córdoba            1\n",
       "San Bernardo del Viento             1\n",
       "San Marcos Sucre                    2\n",
       "San Onofre Sucre                    1\n",
       "Turbaco                             1\n",
       "Name: habitantes, dtype: int64"
      ]
     },
     "execution_count": 32,
     "metadata": {},
     "output_type": "execute_result"
    }
   ],
   "source": [
    "censo.groupby(['procedencia_otra'])['habitantes'].count()"
   ]
  },
  {
   "cell_type": "code",
   "execution_count": 14,
   "metadata": {
    "hidePrompt": true
   },
   "outputs": [
    {
     "data": {
      "text/plain": [
       "procedencia\n",
       "                   0.000000\n",
       "baru               5.920000\n",
       "bocachica          5.000000\n",
       "clemencia         12.000000\n",
       "isla grande        6.079646\n",
       "marialabaja       12.000000\n",
       "other              4.821429\n",
       "punta arena        4.000000\n",
       "san onofre         0.000000\n",
       "santa ana          6.000000\n",
       "santa catalina     5.000000\n",
       "tolu               0.000000\n",
       "turbaco           12.000000\n",
       "Name: tiempo_habitar, dtype: float64"
      ]
     },
     "execution_count": 14,
     "metadata": {},
     "output_type": "execute_result"
    }
   ],
   "source": [
    "censo.groupby(['procedencia'])['tiempo_habitar'].mean()"
   ]
  },
  {
   "cell_type": "code",
   "execution_count": 15,
   "metadata": {},
   "outputs": [
    {
     "data": {
      "text/plain": [
       "procedencia\n",
       "                   0\n",
       "baru               0\n",
       "bocachica          0\n",
       "clemencia         12\n",
       "isla grande        0\n",
       "marialabaja       10\n",
       "other              0\n",
       "punta arena        0\n",
       "san onofre         0\n",
       "santa ana          6\n",
       "santa catalina     5\n",
       "tolu               0\n",
       "turbaco           12\n",
       "Name: tiempo_habitar, dtype: int64"
      ]
     },
     "execution_count": 15,
     "metadata": {},
     "output_type": "execute_result"
    }
   ],
   "source": [
    "censo.groupby(['procedencia'])['tiempo_habitar'].min()"
   ]
  },
  {
   "cell_type": "code",
   "execution_count": 1,
   "metadata": {},
   "outputs": [
    {
     "ename": "NameError",
     "evalue": "name 'censo' is not defined",
     "output_type": "error",
     "traceback": [
      "\u001b[0;31m---------------------------------------------------------------------------\u001b[0m",
      "\u001b[0;31mNameError\u001b[0m                                 Traceback (most recent call last)",
      "\u001b[0;32m<ipython-input-1-6950ed3c398e>\u001b[0m in \u001b[0;36m<module>\u001b[0;34m()\u001b[0m\n\u001b[0;32m----> 1\u001b[0;31m \u001b[0mcenso\u001b[0m\u001b[0;34m[\u001b[0m\u001b[0;34m'geometry'\u001b[0m\u001b[0;34m]\u001b[0m \u001b[0;34m=\u001b[0m \u001b[0mcenso\u001b[0m\u001b[0;34m.\u001b[0m\u001b[0mapply\u001b[0m\u001b[0;34m(\u001b[0m\u001b[0;32mlambda\u001b[0m \u001b[0mz\u001b[0m\u001b[0;34m:\u001b[0m \u001b[0mPoint\u001b[0m\u001b[0;34m(\u001b[0m\u001b[0mz\u001b[0m\u001b[0;34m.\u001b[0m\u001b[0mlongitud\u001b[0m\u001b[0;34m,\u001b[0m \u001b[0mz\u001b[0m\u001b[0;34m.\u001b[0m\u001b[0mlatitud\u001b[0m\u001b[0;34m)\u001b[0m\u001b[0;34m,\u001b[0m \u001b[0maxis\u001b[0m\u001b[0;34m=\u001b[0m\u001b[0;36m1\u001b[0m\u001b[0;34m)\u001b[0m\u001b[0;34m\u001b[0m\u001b[0m\n\u001b[0m\u001b[1;32m      2\u001b[0m \u001b[0morikageo\u001b[0m \u001b[0;34m=\u001b[0m \u001b[0mgp\u001b[0m\u001b[0;34m.\u001b[0m\u001b[0mGeoDataFrame\u001b[0m\u001b[0;34m(\u001b[0m\u001b[0mcenso\u001b[0m\u001b[0;34m)\u001b[0m\u001b[0;34m\u001b[0m\u001b[0m\n\u001b[1;32m      3\u001b[0m \u001b[0morikageo\u001b[0m\u001b[0;34m.\u001b[0m\u001b[0mplot\u001b[0m\u001b[0;34m(\u001b[0m\u001b[0mfigsize\u001b[0m\u001b[0;34m=\u001b[0m\u001b[0;34m(\u001b[0m\u001b[0;36m8\u001b[0m\u001b[0;34m,\u001b[0m \u001b[0;36m8\u001b[0m\u001b[0;34m)\u001b[0m\u001b[0;34m)\u001b[0m\u001b[0;34m\u001b[0m\u001b[0m\n",
      "\u001b[0;31mNameError\u001b[0m: name 'censo' is not defined"
     ]
    }
   ],
   "source": [
    "censo['geometry'] = censo.apply(lambda z: Point(z.longitud, z.latitud), axis=1)\n",
    "orikageo = gp.GeoDataFrame(censo)\n",
    "orikageo.plot(figsize=(8, 8))"
   ]
  },
  {
   "cell_type": "code",
   "execution_count": 17,
   "metadata": {},
   "outputs": [
    {
     "data": {
      "text/html": [
       "<div>\n",
       "<style scoped>\n",
       "    .dataframe tbody tr th:only-of-type {\n",
       "        vertical-align: middle;\n",
       "    }\n",
       "\n",
       "    .dataframe tbody tr th {\n",
       "        vertical-align: top;\n",
       "    }\n",
       "\n",
       "    .dataframe thead th {\n",
       "        text-align: right;\n",
       "    }\n",
       "</style>\n",
       "<table border=\"1\" class=\"dataframe\">\n",
       "  <thead>\n",
       "    <tr style=\"text-align: right;\">\n",
       "      <th></th>\n",
       "      <th>censo-orika-today</th>\n",
       "      <th>censo-orika-start</th>\n",
       "      <th>censo-orika-end</th>\n",
       "      <th>censo-orika-deviceid</th>\n",
       "      <th>censo-orika-numero_edificacion</th>\n",
       "      <th>censo-orika-coordenadas</th>\n",
       "      <th>censo-orika-coordenadas-altitude</th>\n",
       "      <th>censo-orika-coordenadas-accuracy</th>\n",
       "      <th>censo-orika-tipo_edificacion</th>\n",
       "      <th>censo-orika-tipo_edificacion_other</th>\n",
       "      <th>...</th>\n",
       "      <th>censo-orika-description</th>\n",
       "      <th>censo-orika-firma</th>\n",
       "      <th>censo-orika-nota</th>\n",
       "      <th>censo-orika-meta-instanceID</th>\n",
       "      <th>censo-orika-meta-instanceName</th>\n",
       "      <th>latitud</th>\n",
       "      <th>longitud</th>\n",
       "      <th>wkt</th>\n",
       "      <th>edad_construccion</th>\n",
       "      <th>tiempo_habitar</th>\n",
       "    </tr>\n",
       "  </thead>\n",
       "  <tbody>\n",
       "    <tr>\n",
       "      <th>41</th>\n",
       "      <td>06/11/18</td>\n",
       "      <td>06/11/18 16:17</td>\n",
       "      <td>06/11/18 16:21</td>\n",
       "      <td>353443092360663</td>\n",
       "      <td>42</td>\n",
       "      <td>10.177541666666666,-75.74264166666667</td>\n",
       "      <td>-6.0</td>\n",
       "      <td>7.5</td>\n",
       "      <td>vivienda</td>\n",
       "      <td></td>\n",
       "      <td>...</td>\n",
       "      <td>**Nro. Edificación: **42 **Tipo de edificación...</td>\n",
       "      <td>https://drive.google.com/open?id=16kaPiur0A698...</td>\n",
       "      <td>No hay habitantes en la casa</td>\n",
       "      <td>uuid:a0222ac6-7ea9-425b-a54e-a83aa58dd1e8</td>\n",
       "      <td>42-Alexandra vallesilla Molina-ca24e28e-9591-4...</td>\n",
       "      <td>10.177541666666666</td>\n",
       "      <td>-75.74264166666667</td>\n",
       "      <td>POINT (-75.74264166666667 10.17754166666667)</td>\n",
       "      <td>8</td>\n",
       "      <td>1</td>\n",
       "    </tr>\n",
       "  </tbody>\n",
       "</table>\n",
       "<p>1 rows × 27 columns</p>\n",
       "</div>"
      ],
      "text/plain": [
       "   censo-orika-today censo-orika-start censo-orika-end  censo-orika-deviceid  \\\n",
       "41          06/11/18    06/11/18 16:17  06/11/18 16:21       353443092360663   \n",
       "\n",
       "    censo-orika-numero_edificacion                censo-orika-coordenadas  \\\n",
       "41                              42  10.177541666666666,-75.74264166666667   \n",
       "\n",
       "    censo-orika-coordenadas-altitude  censo-orika-coordenadas-accuracy  \\\n",
       "41                              -6.0                               7.5   \n",
       "\n",
       "   censo-orika-tipo_edificacion censo-orika-tipo_edificacion_other  \\\n",
       "41                     vivienda                                      \n",
       "\n",
       "        ...                                  censo-orika-description  \\\n",
       "41      ...        **Nro. Edificación: **42 **Tipo de edificación...   \n",
       "\n",
       "                                    censo-orika-firma  \\\n",
       "41  https://drive.google.com/open?id=16kaPiur0A698...   \n",
       "\n",
       "                censo-orika-nota                censo-orika-meta-instanceID  \\\n",
       "41  No hay habitantes en la casa  uuid:a0222ac6-7ea9-425b-a54e-a83aa58dd1e8   \n",
       "\n",
       "                        censo-orika-meta-instanceName             latitud  \\\n",
       "41  42-Alexandra vallesilla Molina-ca24e28e-9591-4...  10.177541666666666   \n",
       "\n",
       "              longitud                                           wkt  \\\n",
       "41  -75.74264166666667  POINT (-75.74264166666667 10.17754166666667)   \n",
       "\n",
       "   edad_construccion tiempo_habitar  \n",
       "41                 8              1  \n",
       "\n",
       "[1 rows x 27 columns]"
      ]
     },
     "execution_count": 17,
     "metadata": {},
     "output_type": "execute_result"
    }
   ],
   "source": [
    "orika[(orika['censo-orika-numero_edificacion']>41) & (orika['censo-orika-numero_edificacion']<43)]"
   ]
  },
  {
   "cell_type": "markdown",
   "metadata": {},
   "source": [
    "### Sector El Mocho\n",
    "#####  Edificaciones por tipo "
   ]
  },
  {
   "cell_type": "code",
   "execution_count": 18,
   "metadata": {
    "scrolled": false
   },
   "outputs": [
    {
     "data": {
      "text/plain": [
       "tipo_edificacion\n",
       "cantina         5\n",
       "gallera         1\n",
       "hotel           1\n",
       "lote           51\n",
       "other           2\n",
       "restaurante     1\n",
       "tienda          3\n",
       "vivienda       68\n",
       "Name: tipo_edificacion, dtype: int64"
      ]
     },
     "execution_count": 18,
     "metadata": {},
     "output_type": "execute_result"
    }
   ],
   "source": [
    "censo[(censo['numero_edificacion'] >= 0) & (censo['numero_edificacion'] <= 132)].groupby(['tipo_edificacion'])['tipo_edificacion'].count()"
   ]
  },
  {
   "cell_type": "markdown",
   "metadata": {},
   "source": [
    "#### Población"
   ]
  },
  {
   "cell_type": "code",
   "execution_count": 19,
   "metadata": {},
   "outputs": [
    {
     "data": {
      "text/plain": [
       "248"
      ]
     },
     "execution_count": 19,
     "metadata": {},
     "output_type": "execute_result"
    }
   ],
   "source": [
    "censo[(censo['numero_edificacion'] >= 0) & (censo['numero_edificacion'] <= 132)]['habitantes'].sum()"
   ]
  },
  {
   "cell_type": "markdown",
   "metadata": {},
   "source": [
    "### Sector Yazmin"
   ]
  },
  {
   "cell_type": "markdown",
   "metadata": {},
   "source": [
    "#### Población"
   ]
  },
  {
   "cell_type": "code",
   "execution_count": 20,
   "metadata": {},
   "outputs": [
    {
     "data": {
      "text/plain": [
       "147"
      ]
     },
     "execution_count": 20,
     "metadata": {},
     "output_type": "execute_result"
    }
   ],
   "source": [
    "censo[(censo['numero_edificacion'] >= 133) & (censo['numero_edificacion'] <= 206)]['habitantes'].sum()"
   ]
  },
  {
   "cell_type": "markdown",
   "metadata": {},
   "source": [
    "#####  Edificaciones por tipo "
   ]
  },
  {
   "cell_type": "code",
   "execution_count": 21,
   "metadata": {},
   "outputs": [
    {
     "data": {
      "text/plain": [
       "tipo_edificacion\n",
       "lote           28\n",
       "other           7\n",
       "restaurante     1\n",
       "vivienda       38\n",
       "Name: tipo_edificacion, dtype: int64"
      ]
     },
     "execution_count": 21,
     "metadata": {},
     "output_type": "execute_result"
    }
   ],
   "source": [
    "censo[(censo['numero_edificacion'] >= 133) & (censo['numero_edificacion'] <= 206)].groupby(['tipo_edificacion'])['tipo_edificacion'].count()"
   ]
  },
  {
   "cell_type": "markdown",
   "metadata": {},
   "source": [
    "### Sector Petares"
   ]
  },
  {
   "cell_type": "markdown",
   "metadata": {},
   "source": [
    "#### Población"
   ]
  },
  {
   "cell_type": "code",
   "execution_count": 22,
   "metadata": {},
   "outputs": [
    {
     "data": {
      "text/plain": [
       "93"
      ]
     },
     "execution_count": 22,
     "metadata": {},
     "output_type": "execute_result"
    }
   ],
   "source": [
    "censo[(censo['numero_edificacion'] >= 207) & (censo['numero_edificacion'] <= 238)]['habitantes'].sum()"
   ]
  },
  {
   "cell_type": "markdown",
   "metadata": {},
   "source": [
    "#####  Edificaciones por tipo"
   ]
  },
  {
   "cell_type": "code",
   "execution_count": 23,
   "metadata": {},
   "outputs": [
    {
     "data": {
      "text/plain": [
       "tipo_edificacion\n",
       "colegio      1\n",
       "lote         6\n",
       "other        6\n",
       "tienda       1\n",
       "vivienda    18\n",
       "Name: tipo_edificacion, dtype: int64"
      ]
     },
     "execution_count": 23,
     "metadata": {},
     "output_type": "execute_result"
    }
   ],
   "source": [
    "censo[(censo['numero_edificacion'] >= 207) & (censo['numero_edificacion'] <= 238)].groupby(['tipo_edificacion'])['tipo_edificacion'].count()"
   ]
  }
 ],
 "metadata": {
  "kernelspec": {
   "display_name": "Python 3",
   "language": "python",
   "name": "python3"
  },
  "language_info": {
   "codemirror_mode": {
    "name": "ipython",
    "version": 3
   },
   "file_extension": ".py",
   "mimetype": "text/x-python",
   "name": "python",
   "nbconvert_exporter": "python",
   "pygments_lexer": "ipython3",
   "version": "3.8.10"
  }
 },
 "nbformat": 4,
 "nbformat_minor": 2
}
