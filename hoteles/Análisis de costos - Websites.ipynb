{
 "cells": [
  {
   "cell_type": "markdown",
   "metadata": {
    "hideCode": false,
    "hidePrompt": false
   },
   "source": [
    "# Análisis de costos - Infraestructura web\n",
    "# Hoteles Playa Club y Balcones de Alhelí\n",
    "\n",
    "* Calcular costos por años por tipo de servicio\n",
    "* Proponer la migración a una infaestructura de mejor rendimiento y menores costos"
   ]
  },
  {
   "cell_type": "code",
   "execution_count": 2,
   "metadata": {
    "hideCode": false,
    "hidePrompt": false
   },
   "outputs": [],
   "source": [
    "#Import Modules\n",
    "import pandas as pd\n",
    "import numpy as np\n",
    "import matplotlib.pyplot as plt\n",
    "import requests\n",
    "import json"
   ]
  },
  {
   "cell_type": "markdown",
   "metadata": {
    "hideCode": false,
    "hidePrompt": false
   },
   "source": [
    "## 1. Calcular costos por años por tipo de servicio\n",
    "Analizar tabla de costos para hallar los gastos por concepto/ servicio cada año."
   ]
  },
  {
   "cell_type": "code",
   "execution_count": 5,
   "metadata": {
    "hideCode": false,
    "hidePrompt": false
   },
   "outputs": [
    {
     "data": {
      "text/plain": [
       "Año   Nombre del producto                      \n",
       "2013  .CO Domain Registration                        $8,053,800.00\n",
       "      .COM Domain Registration                       $8,185,758.00\n",
       "      .COM Domain Transfer                           $2,532,700.00\n",
       "      Economy Web Hosting Linux                     $14,842,800.00\n",
       "2014  .COM Domain Registration                         $202,905.00\n",
       "      .COM Domain Renewal                            $5,324,502.00\n",
       "      Deluxe Linux Hosting with cPanel                 $133,199.00\n",
       "      Economy Hosting Linux Renewal                    $282,322.00\n",
       "      Economy Linux Hosting with cPanel                $164,447.00\n",
       "      Search Engine Visibility v1                      $164,447.00\n",
       "2015  .CO Domain Registration                          $114,317.00\n",
       "      .COM Domain Renewal                               $44,405.00\n",
       "      Bandwidth Renewal (recurring)                    $417,216.00\n",
       "      Deluxe Linux Hosting with cPanel Renewal         $213,588.00\n",
       "      Economy Hosting Linux Renewal                    $251,628.00\n",
       "      Economy Linux Hosting with cPanel                $202,308.00\n",
       "      Economy Linux Hosting with cPanel Renewal        $165,588.00\n",
       "      Renewal Usage                                    $213,588.00\n",
       "2016  .CO Domain Registration                           $40,788.00\n",
       "      .CO Domain Renewal                                $97,055.00\n",
       "      .COM Domain Renewal                            $1,491,624.00\n",
       "      Deluxe Linux Hosting with cPanel Renewal         $368,268.00\n",
       "      Economy Hosting Linux Renewal                    $444,213.00\n",
       "      Economy Linux Hosting with cPanel Renewal        $572,616.00\n",
       "      HostMonster – Basic Web Hosting                  $409,200.00\n",
       "      Office 365 Starter Email                          $40,788.00\n",
       "      Personal Website Builder                          $40,788.00\n",
       "      Renewal Usage                                    $654,576.00\n",
       "2017  .CO (COM.CO) Domain Registration              $55,041,795.00\n",
       "      .CO Domain Registration                       $54,640,600.00\n",
       "      .CO Domain Renewal                            $54,640,600.00\n",
       "      .COM Domain Registration                      $54,640,600.00\n",
       "      .COM Domain Renewal                           $44,222,118.00\n",
       "      Deluxe Managed WordPress Websites                $303,227.00\n",
       "      Economy Hosting Linux Renewal                    $338,223.00\n",
       "      Economy Linux Hosting with cPanel Renewal     $39,700,816.00\n",
       "      HostMonster – Basic Web Hosting                  $409,200.00\n",
       "      Private Domain Registration                  $163,921,800.00\n",
       "      Renewal Usage                                    $624,531.00\n",
       "2018  .CO Domain Renewal                               $101,999.00\n",
       "      .COM Domain Renewal                            $2,668,518.00\n",
       "      Economy Hosting Linux Renewal                    $889,506.00\n",
       "      Economy Linux Hosting with cPanel Renewal      $1,175,814.00\n",
       "      HostMonster – Basic Web Hosting                  $409,200.00\n",
       "      Renewal Usage                                    $286,308.00\n",
       "2019  .COM Domain Registration                         $211,394.00\n",
       "      Deluxe Linux Hosting with cPanel                 $211,394.00\n",
       "      Website Builder Business vNext                   $211,394.00\n",
       "Name: Total COP, dtype: object"
      ]
     },
     "execution_count": 5,
     "metadata": {},
     "output_type": "execute_result"
    }
   ],
   "source": [
    "costos = pd.read_csv('godaddy.csv', parse_dates=['Fecha de pedido'])\n",
    "costos['Año'] = costos['Fecha de pedido'].map(lambda x: x.strftime('%Y'))\n",
    "costos['Total COP'] = np.where(costos['Divisa']=='USD', costos['Total']*3100, costos['Total'])\n",
    "costos_anuales = costos.groupby(['Año', 'Nombre del producto'])['Total COP'].sum().map('${:,.2f}'.format)\n",
    "costos.to_csv('costos-web.csv')\n",
    "costos_anuales"
   ]
  },
  {
   "cell_type": "markdown",
   "metadata": {
    "hideCode": false,
    "hidePrompt": false
   },
   "source": [
    "## 2. Proponer la migración a una nueva infaestructura\n",
    "de mejor rendimiento y menores costos.  Se propone migrar a un servidor VPS en Linode.com, iniciando con el más pequeños de todos y un esquema de back-up rotacional diario por dos semanas, de todo el sistema operativo.\n",
    "\n",
    "### 2.1. Rendimientos y costos actual\n",
    "\n",
    "[Diagrama de infraestrutura actual]\n",
    "\n",
    "[pantallazo top]\n",
    "\n",
    "[pantallazo consola # de websites servidor]\n",
    "\n",
    "\n",
    "### 2.2. Rendimientos y costos migración\n",
    "\n",
    "Consumos de recursos de un sitio wordpress\n",
    "\n",
    "#### 2.2.1.  Estadísticas de tráfico web\n",
    "Google analytics reporta para ambos sitios las siguientes estadísticas de tráfico:\n",
    "\n",
    "**PLaya Club**\n",
    "Usuarios/Minuto\n",
    "\n",
    "**Balcones de Alhelí**\n",
    "Usuarios/Minuto\n",
    "\n",
    "* **Linode 1GB:** 1 GB RAM; 1 CPU Core; 25 GB SSD Storage; 1 TB Transfer; 40 Gbps Network In; 1000 Mbps Network Out. Precio: $5/mo.\n",
    "\n",
    "* **Back up:** The Linode Backup Service can be activated instantly and runs completely independent of your Linode's software stack. No installation or configuration required. It's that simple. Precio: $2/mo\n",
    "\n",
    "El costo mensual de operación sería de USD$7, lo que equivale a ~$270.000.\n",
    "\n",
    "https://winningwp.com/best-vps-and-cloud-hosting-for-wordpress/\n",
    "\n",
    "#### 2.2.2. Proceso y tiempos de la migración\n",
    "\n",
    "* Backup: URL que describe como se hace\n",
    "* Server\n",
    "* Wordpress\n",
    "* Plugin\n",
    "* Restore\n",
    "* Apache\n",
    "* SSL Certificates\n",
    "* Launch\n",
    "\n",
    "### Diagrama de Infraestructura\n",
    "\n",
    "[Dibujo de Google drive]\n",
    "\n",
    "\n",
    "\n",
    "## Reducción de costos por gestión de dominios\n",
    "\n",
    "**2018**\n",
    "\n",
    "* .COM Domain Renewal                          $2,668,518.00\n",
    "\n",
    "* .CO Domain Renewal                             $101,999.00\n",
    "\n",
    "Total\n",
    "\n"
   ]
  },
  {
   "cell_type": "code",
   "execution_count": 6,
   "metadata": {
    "hideCode": false,
    "hidePrompt": false
   },
   "outputs": [
    {
     "data": {
      "text/plain": [
       "Nombre del producto\n",
       ".CO (COM.CO) Domain Registration              $55,041,795.00\n",
       ".CO Domain Registration                       $62,849,505.00\n",
       ".CO Domain Renewal                            $54,839,654.00\n",
       ".COM Domain Registration                      $63,240,657.00\n",
       ".COM Domain Renewal                           $53,751,167.00\n",
       ".COM Domain Transfer                           $2,532,700.00\n",
       "Bandwidth Renewal (recurring)                    $417,216.00\n",
       "Deluxe Linux Hosting with cPanel                 $344,593.00\n",
       "Deluxe Linux Hosting with cPanel Renewal         $581,856.00\n",
       "Deluxe Managed WordPress Websites                $303,227.00\n",
       "Economy Hosting Linux Renewal                  $2,205,892.00\n",
       "Economy Linux Hosting with cPanel                $366,755.00\n",
       "Economy Linux Hosting with cPanel Renewal     $41,614,834.00\n",
       "Economy Web Hosting Linux                     $14,842,800.00\n",
       "HostMonster – Basic Web Hosting                $1,227,600.00\n",
       "Office 365 Starter Email                          $40,788.00\n",
       "Personal Website Builder                          $40,788.00\n",
       "Private Domain Registration                  $163,921,800.00\n",
       "Renewal Usage                                  $1,779,003.00\n",
       "Search Engine Visibility v1                      $164,447.00\n",
       "Website Builder Business vNext                   $211,394.00\n",
       "Name: Total COP, dtype: object"
      ]
     },
     "execution_count": 6,
     "metadata": {},
     "output_type": "execute_result"
    }
   ],
   "source": [
    "costos.groupby(['Nombre del producto'])['Total COP'].sum().map('${:,.2f}'.format)"
   ]
  },
  {
   "cell_type": "code",
   "execution_count": 9,
   "metadata": {
    "hideCode": false,
    "hidePrompt": false
   },
   "outputs": [
    {
     "data": {
      "text/plain": [
       "77.53982300884955"
      ]
     },
     "execution_count": 9,
     "metadata": {},
     "output_type": "execute_result"
    }
   ],
   "source": [
    "8762/((pd.to_datetime('20/05/2019') - pd.to_datetime('27/01/2019')).days)"
   ]
  },
  {
   "cell_type": "code",
   "execution_count": null,
   "metadata": {
    "hideCode": false,
    "hidePrompt": false
   },
   "outputs": [],
   "source": []
  },
  {
   "cell_type": "code",
   "execution_count": null,
   "metadata": {
    "hideCode": false,
    "hidePrompt": false
   },
   "outputs": [],
   "source": []
  }
 ],
 "metadata": {
  "hide_code_all_hidden": false,
  "kernelspec": {
   "display_name": "Python 3",
   "language": "python",
   "name": "python3"
  },
  "language_info": {
   "codemirror_mode": {
    "name": "ipython",
    "version": 3
   },
   "file_extension": ".py",
   "mimetype": "text/x-python",
   "name": "python",
   "nbconvert_exporter": "python",
   "pygments_lexer": "ipython3",
   "version": "3.6.7"
  }
 },
 "nbformat": 4,
 "nbformat_minor": 2
}
